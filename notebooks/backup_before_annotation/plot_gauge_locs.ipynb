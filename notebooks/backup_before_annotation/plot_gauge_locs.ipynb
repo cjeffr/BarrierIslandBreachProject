{
 "cells": [
  {
   "cell_type": "code",
   "execution_count": 1,
   "id": "6a71c116-ccf9-4dd5-9ac4-67c629596d1f",
   "metadata": {},
   "outputs": [],
   "source": [
    "%config InlineBackend.figure_format = 'retina'\n",
    "import matplotlib as mpl\n",
    "import matplotlib.pyplot as plt\n",
    "import os\n",
    "import numpy as np\n",
    "import pygmt\n",
    "import pandas as pd\n",
    "import xarray as xr\n",
    "import sys\n",
    "import datetime\n"
   ]
  },
  {
   "cell_type": "code",
   "execution_count": 4,
   "id": "54553210-1ed2-4a6d-a227-e254d48daf9b",
   "metadata": {},
   "outputs": [],
   "source": [
    "sys.path.insert(0, '/home/catherinej/claw_tools/src/claw_tools/post')\n",
    "sys.path.insert(0, '/home/catherinej/BarrierBreach/src/barrierbreach/')\n",
    "import waveforms\n",
    "import breach_randomization as br\n",
    "                "
   ]
  },
  {
   "cell_type": "code",
   "execution_count": 5,
   "id": "988159de-d00e-4ca4-be7e-4d86d3250ee2",
   "metadata": {},
   "outputs": [
    {
     "data": {
      "text/plain": [
       "Unnamed: 0    135.000000\n",
       "lon           -72.634870\n",
       "lat            40.800420\n",
       "depth          -0.141293\n",
       "Name: 135, dtype: float64"
      ]
     },
     "execution_count": 5,
     "metadata": {},
     "output_type": "execute_result"
    }
   ],
   "source": [
    "# PATH = '/home/catherinej/BarrierBreach/data/m_gauges.csv'\n",
    "gauge_locs = pd.read_csv('/home/catherinej/breach_study_setrun_inputs/moriches_bay_gauges.csv')\n",
    "gauge_locs.iloc[135]"
   ]
  },
  {
   "cell_type": "code",
   "execution_count": 6,
   "id": "95cd7fa2-163d-4cb7-9b0e-14449d5511bf",
   "metadata": {},
   "outputs": [
    {
     "data": {
      "text/html": [
       "<div>\n",
       "<style scoped>\n",
       "    .dataframe tbody tr th:only-of-type {\n",
       "        vertical-align: middle;\n",
       "    }\n",
       "\n",
       "    .dataframe tbody tr th {\n",
       "        vertical-align: top;\n",
       "    }\n",
       "\n",
       "    .dataframe thead th {\n",
       "        text-align: right;\n",
       "    }\n",
       "</style>\n",
       "<table border=\"1\" class=\"dataframe\">\n",
       "  <thead>\n",
       "    <tr style=\"text-align: right;\">\n",
       "      <th></th>\n",
       "      <th>GaugeName</th>\n",
       "      <th>lon</th>\n",
       "      <th>lat</th>\n",
       "      <th>depth</th>\n",
       "    </tr>\n",
       "  </thead>\n",
       "  <tbody>\n",
       "    <tr>\n",
       "      <th>0</th>\n",
       "      <td>0</td>\n",
       "      <td>-72.884900</td>\n",
       "      <td>40.738300</td>\n",
       "      <td>1.667485</td>\n",
       "    </tr>\n",
       "    <tr>\n",
       "      <th>1</th>\n",
       "      <td>1</td>\n",
       "      <td>-72.842468</td>\n",
       "      <td>40.750054</td>\n",
       "      <td>1.500641</td>\n",
       "    </tr>\n",
       "    <tr>\n",
       "      <th>2</th>\n",
       "      <td>2</td>\n",
       "      <td>-72.804580</td>\n",
       "      <td>40.770500</td>\n",
       "      <td>2.301971</td>\n",
       "    </tr>\n",
       "    <tr>\n",
       "      <th>3</th>\n",
       "      <td>3</td>\n",
       "      <td>-72.804000</td>\n",
       "      <td>40.777800</td>\n",
       "      <td>2.187709</td>\n",
       "    </tr>\n",
       "    <tr>\n",
       "      <th>4</th>\n",
       "      <td>4</td>\n",
       "      <td>-72.784900</td>\n",
       "      <td>40.754200</td>\n",
       "      <td>5.105707</td>\n",
       "    </tr>\n",
       "    <tr>\n",
       "      <th>...</th>\n",
       "      <td>...</td>\n",
       "      <td>...</td>\n",
       "      <td>...</td>\n",
       "      <td>...</td>\n",
       "    </tr>\n",
       "    <tr>\n",
       "      <th>132</th>\n",
       "      <td>132</td>\n",
       "      <td>-72.846320</td>\n",
       "      <td>40.741520</td>\n",
       "      <td>1.757125</td>\n",
       "    </tr>\n",
       "    <tr>\n",
       "      <th>133</th>\n",
       "      <td>133</td>\n",
       "      <td>-72.752660</td>\n",
       "      <td>40.781300</td>\n",
       "      <td>2.586190</td>\n",
       "    </tr>\n",
       "    <tr>\n",
       "      <th>134</th>\n",
       "      <td>134</td>\n",
       "      <td>-72.744520</td>\n",
       "      <td>40.785550</td>\n",
       "      <td>1.144157</td>\n",
       "    </tr>\n",
       "    <tr>\n",
       "      <th>135</th>\n",
       "      <td>135</td>\n",
       "      <td>-72.634870</td>\n",
       "      <td>40.800420</td>\n",
       "      <td>-0.141293</td>\n",
       "    </tr>\n",
       "    <tr>\n",
       "      <th>136</th>\n",
       "      <td>136</td>\n",
       "      <td>-72.630030</td>\n",
       "      <td>40.800180</td>\n",
       "      <td>1.729332</td>\n",
       "    </tr>\n",
       "  </tbody>\n",
       "</table>\n",
       "<p>137 rows × 4 columns</p>\n",
       "</div>"
      ],
      "text/plain": [
       "     GaugeName        lon        lat     depth\n",
       "0            0 -72.884900  40.738300  1.667485\n",
       "1            1 -72.842468  40.750054  1.500641\n",
       "2            2 -72.804580  40.770500  2.301971\n",
       "3            3 -72.804000  40.777800  2.187709\n",
       "4            4 -72.784900  40.754200  5.105707\n",
       "..         ...        ...        ...       ...\n",
       "132        132 -72.846320  40.741520  1.757125\n",
       "133        133 -72.752660  40.781300  2.586190\n",
       "134        134 -72.744520  40.785550  1.144157\n",
       "135        135 -72.634870  40.800420 -0.141293\n",
       "136        136 -72.630030  40.800180  1.729332\n",
       "\n",
       "[137 rows x 4 columns]"
      ]
     },
     "execution_count": 6,
     "metadata": {},
     "output_type": "execute_result"
    }
   ],
   "source": [
    "gauge_locs = gauge_locs.rename(columns={'Unnamed: 0': 'GaugeName'})\n",
    "gauge_locs"
   ]
  },
  {
   "cell_type": "code",
   "execution_count": 5,
   "id": "c82ca0eb-b77a-4ad8-b239-fe216cc46f5e",
   "metadata": {},
   "outputs": [],
   "source": [
    "sub_df = gauge_locs.iloc[[46, 72, 83, 133, 91, 103, 119]]\n",
    "bay_gauges_df = waveforms.find_gauge_locations(PATH)\n"
   ]
  },
  {
   "cell_type": "code",
   "execution_count": 11,
   "id": "198b5db4-90c4-4757-a585-d9dcf355257b",
   "metadata": {},
   "outputs": [
    {
     "name": "stdout",
     "output_type": "stream",
     "text": [
      "dropped:  69 0.7262492\n",
      "dropped:  70 0.3409202\n",
      "dropped:  71 2.078135\n",
      "dropped:  73 0.5476931\n",
      "dropped:  74 0.3711545\n",
      "dropped:  75 1.065956\n",
      "dropped:  86 1.6\n",
      "dropped:  93 0.7796502\n",
      "dropped:  97 2.72251\n",
      "dropped:  109 0.2251308\n",
      "dropped:  111 0.4557818\n",
      "dropped:  113 0.5502666\n",
      "dropped:  114 1.273609\n",
      "dropped:  117 0.189465\n",
      "dropped:  122 2.098067\n",
      "dropped:  126 9.2621\n"
     ]
    }
   ],
   "source": [
    "# bay_gauges_df = bay_gauges_df.drop([57, 58])\n",
    "for gauge_no in bay_gauges_df.index.values:\n",
    "    \n",
    "    filename = f'/home/catherinej/BarrierBreach/data/simulations/no_breach/_output/gauge1{gauge_no:04}.txt'\n",
    "    eta = np.genfromtxt(filename, skip_header=3, max_rows=1, usecols=[5])\n",
    "    if eta > 0.001:\n",
    "        print('dropped: ', gauge_no, eta)\n",
    "        bay_gauges_df = bay_gauges_df.drop([gauge_no]) "
   ]
  },
  {
   "cell_type": "code",
   "execution_count": 8,
   "id": "7ccda731",
   "metadata": {},
   "outputs": [],
   "source": [
    "bay_gauges_df.to_csv('/home/catherinej/BarrierBreach/data/bay_gauges.csv')"
   ]
  },
  {
   "cell_type": "code",
   "execution_count": 30,
   "id": "5541a8c9",
   "metadata": {
    "jupyter": {
     "source_hidden": true
    },
    "tags": []
   },
   "outputs": [],
   "source": [
    "from clawpack.amrclaw import region_tools\n",
    "file = '/home/catherinej/BarrierBreach/src/models/geoclaw_tools/moriches_RR2.data'\n",
    "rr = region_tools.RuledRectangle(file)\n",
    "rr.read(file)\n",
    "# lines = open(file, 'r').readlines()\n",
    "# k = -1\n",
    "# comments=True\n",
    "# while comments:\n",
    "#     k +=1 \n",
    "#     line = lines[k].strip()\n",
    "#     if (line != '') and (line[0] != '#'):\n",
    "#         comments=False\n",
    "# ixy = int(line.split()[0])\n",
    "# k +=1\n",
    "# method = int(line.split()[0])\n",
    "# k += 1\n",
    "# ds = float(lines[k].split()[0])\n",
    "# k +=1\n",
    "# nrule = int(lines[k].split()[0])\n",
    "# slu = np.loadtxt(file, skiprows=k+1)\n",
    "# s = slu[:,0]\n",
    "# lower = slu[:,1]\n",
    "# upper = slu[:,2]\n",
    "xv, yv = rr.vertices()"
   ]
  },
  {
   "cell_type": "code",
   "execution_count": 8,
   "id": "1a9f14ff-a0ed-4c55-ab4f-d309911c93ce",
   "metadata": {},
   "outputs": [
    {
     "ename": "FileNotFoundError",
     "evalue": "[Errno 2] No such file or directory: '/home/catherinej/BarrierBreach/data/simulations/d1/breach.data'",
     "output_type": "error",
     "traceback": [
      "\u001b[0;31m---------------------------------------------------------------------------\u001b[0m",
      "\u001b[0;31mFileNotFoundError\u001b[0m                         Traceback (most recent call last)",
      "Cell \u001b[0;32mIn[8], line 9\u001b[0m\n\u001b[1;32m      6\u001b[0m     \u001b[38;5;28;01mreturn\u001b[39;00m gauges\u001b[38;5;241m.\u001b[39miloc[index][\u001b[38;5;124m'\u001b[39m\u001b[38;5;124mGaugeNames\u001b[39m\u001b[38;5;124m'\u001b[39m]\n\u001b[1;32m      7\u001b[0m breach_data_file \u001b[38;5;241m=\u001b[39m \u001b[38;5;124m'\u001b[39m\u001b[38;5;124m/home/catherinej/BarrierBreach/data/simulations/d1/breach.data\u001b[39m\u001b[38;5;124m'\u001b[39m\n\u001b[0;32m----> 9\u001b[0m \u001b[38;5;28;01mwith\u001b[39;00m \u001b[38;5;28;43mopen\u001b[39;49m\u001b[43m(\u001b[49m\u001b[43mbreach_data_file\u001b[49m\u001b[43m)\u001b[49m \u001b[38;5;28;01mas\u001b[39;00m f:\n\u001b[1;32m     10\u001b[0m     data \u001b[38;5;241m=\u001b[39m f\u001b[38;5;241m.\u001b[39mread()\n\u001b[1;32m     11\u001b[0m data \u001b[38;5;241m=\u001b[39m data\u001b[38;5;241m.\u001b[39msplit(\u001b[38;5;124m'\u001b[39m\u001b[38;5;130;01m\\n\u001b[39;00m\u001b[38;5;124m'\u001b[39m)\n",
      "File \u001b[0;32m~/miniconda3/envs/claw/lib/python3.10/site-packages/IPython/core/interactiveshell.py:284\u001b[0m, in \u001b[0;36m_modified_open\u001b[0;34m(file, *args, **kwargs)\u001b[0m\n\u001b[1;32m    277\u001b[0m \u001b[38;5;28;01mif\u001b[39;00m file \u001b[38;5;129;01min\u001b[39;00m {\u001b[38;5;241m0\u001b[39m, \u001b[38;5;241m1\u001b[39m, \u001b[38;5;241m2\u001b[39m}:\n\u001b[1;32m    278\u001b[0m     \u001b[38;5;28;01mraise\u001b[39;00m \u001b[38;5;167;01mValueError\u001b[39;00m(\n\u001b[1;32m    279\u001b[0m         \u001b[38;5;124mf\u001b[39m\u001b[38;5;124m\"\u001b[39m\u001b[38;5;124mIPython won\u001b[39m\u001b[38;5;124m'\u001b[39m\u001b[38;5;124mt let you open fd=\u001b[39m\u001b[38;5;132;01m{\u001b[39;00mfile\u001b[38;5;132;01m}\u001b[39;00m\u001b[38;5;124m by default \u001b[39m\u001b[38;5;124m\"\u001b[39m\n\u001b[1;32m    280\u001b[0m         \u001b[38;5;124m\"\u001b[39m\u001b[38;5;124mas it is likely to crash IPython. If you know what you are doing, \u001b[39m\u001b[38;5;124m\"\u001b[39m\n\u001b[1;32m    281\u001b[0m         \u001b[38;5;124m\"\u001b[39m\u001b[38;5;124myou can use builtins\u001b[39m\u001b[38;5;124m'\u001b[39m\u001b[38;5;124m open.\u001b[39m\u001b[38;5;124m\"\u001b[39m\n\u001b[1;32m    282\u001b[0m     )\n\u001b[0;32m--> 284\u001b[0m \u001b[38;5;28;01mreturn\u001b[39;00m \u001b[43mio_open\u001b[49m\u001b[43m(\u001b[49m\u001b[43mfile\u001b[49m\u001b[43m,\u001b[49m\u001b[43m \u001b[49m\u001b[38;5;241;43m*\u001b[39;49m\u001b[43margs\u001b[49m\u001b[43m,\u001b[49m\u001b[43m \u001b[49m\u001b[38;5;241;43m*\u001b[39;49m\u001b[38;5;241;43m*\u001b[39;49m\u001b[43mkwargs\u001b[49m\u001b[43m)\u001b[49m\n",
      "\u001b[0;31mFileNotFoundError\u001b[0m: [Errno 2] No such file or directory: '/home/catherinej/BarrierBreach/data/simulations/d1/breach.data'"
     ]
    }
   ],
   "source": [
    "bay_gauges = pd.read_csv('/home/catherinej/BarrierBreach/data/bay_gauges.csv')\n",
    "ocean_gauges = pd.read_csv('/home/catherinej/refactor_breach/geoclaw_input_data/ocean_gauges.csv')\n",
    "def calc_min_distance(gauges, lon ,lat):\n",
    "    gauges['Distance'] = [waveforms.calc_distance(lat, y, lon, x) for y, x in zip(gauges['lat'], gauges['lon'])]\n",
    "    index = gauges.Distance.idxmin()\n",
    "    return gauges.iloc[index]['GaugeNames']\n",
    "breach_data_file = '/home/catherinej/BarrierBreach/data/simulations/d1/breach.data'\n",
    "\n",
    "with open(breach_data_file) as f:\n",
    "    data = f.read()\n",
    "data = data.split('\\n')\n",
    "data = [line.split(' ') for line in data]\n",
    "data.pop(0)\n",
    "names = data.pop(0)\n",
    "if not 'depth' in names:\n",
    "    names.append('Depth')\n",
    "d = {k: v for k,v in zip(names, data) if k != 'sigma,'}\n",
    "df = pd.DataFrame(d)\n",
    "df.columns = [col.replace(',', '') for col in df.columns]\n",
    "df = df.apply(pd.to_numeric, errors='ignore')\n",
    "df['lat'] = [(x + y )/2 for x,y in zip(df['south'], df['north'])]\n",
    "df\n",
    "\n",
    "nearest_bay = [calc_min_distance(bay_gauges, lon, lat) for lon, lat in \n",
    "                zip(df['mu'], df['lat'])]\n",
    "nearest_ocean = [ocean_gauges.iloc[br.find_nearest_gauges(ocean_gauges, lon, lat, 1000).dist.idxmin()]['Unnamed: 0'] for lon, lat in\n",
    "                zip(df['mu'], df['lat'])]\n"
   ]
  },
  {
   "cell_type": "code",
   "execution_count": 18,
   "id": "9e0dd610-ab5c-40d2-b9fb-7aa1d14752ae",
   "metadata": {},
   "outputs": [],
   "source": [
    "nearest_bay = [104, 79]"
   ]
  },
  {
   "cell_type": "code",
   "execution_count": 19,
   "id": "2e7d9805-e302-4247-aedd-f2cf1ad7ade9",
   "metadata": {},
   "outputs": [],
   "source": [
    "bay_df = bay_gauges.loc[bay_gauges['GaugeNames'].isin(nearest_bay)]\n",
    "ocean_df = ocean_gauges.loc[ocean_gauges['Unnamed: 0'].isin(nearest_ocean)]"
   ]
  },
  {
   "cell_type": "code",
   "execution_count": 20,
   "id": "72ceb1d4-0055-4196-ad89-8df1f2d68ec5",
   "metadata": {
    "tags": []
   },
   "outputs": [],
   "source": [
    "# Create a map of moriches\n",
    "bathy = '/home/catherinej/bathymetry/moriches.nc'\n",
    "def gauge_locs_map():\n",
    "    import yaml\n",
    "    with open('/home/catherinej/claw_code/src/claw_code/post/gmt_config.yml', 'r') as ymlfile:\n",
    "        cfg = yaml.safe_load(ymlfile)\n",
    "    fig = pygmt.Figure()\n",
    "    with pygmt.config(**cfg['region_map']):\n",
    "        region = cfg['moriches_map']['region']\n",
    "        frame_params = cfg['moriches_map']['basemap_frame']\n",
    "        grid = '/home/catherinej/bathymetry/moriches_d1.nc'\n",
    "        grd = pygmt.grdclip(grid=grid, below=[0.0, -50.0])\n",
    "        fig.basemap(region=region, projection='M20c', frame=frame_params)\n",
    "        pygmt.makecpt(cmap='gray', series=[-50,50], reverse=True)\n",
    "        fig.grdimage(grid=grd, cmap=True, shading=True)\n",
    "        fig.plot(x=bay_gauges_df.lon, y=bay_gauges_df.lat, color='red', style='c0.125c')\n",
    "        fig.text(x=bay_df.lon+0.0035, y=bay_df.lat-0.0035, \n",
    "                 text=bay_df['GaugeNames'])\n",
    "        # fig.plot(x=ocean_df.lon, y=ocean_df.lat, color='red', style='c0.125c')\n",
    "        # fig.text(x=ocean_df.lon+0.0035, y=ocean_df.lat-0.0035, text=ocean_df['Unnamed: 0'])\n",
    "        fig.savefig('/home/catherinej/BarrierBreach/visualization/nearest_gauges_map.pdf')\n",
    "\n",
    "# grd = pygmt.datasets.load_earth_relief(region= [-72.88, -72.58, 40.68, 40.83],resolution='01s',)\n",
    "# with pygmt.config(\n",
    "#     FORMAT_GEO_MAP='ddd.xx'):\n",
    "#     # [-72.88, -72.65, 40.72, 40.829]\n",
    "#     fig.basemap(region=[-72.90, -72.65, 40.72, 40.83], projection='M25c', frame=True)\n",
    "\n",
    "#     fig.plot(x=bay_gauges_df.lon, y=bay_gauges_df.lat, color='red', style='c0.125c')\n",
    "#     fig.plot(x=-72.875,y=40.73, color='blue', style='c0.25c')\n",
    "#     fig.plot(x=-72.67, y=40.788, color='blue', style='c0.25c')\n",
    "#     fig.text(x=bay_gauges_df.lon+0.0035, y=bay_gauges_df.lat-0.0035, text=bay_gauges_df.index)\n",
    "#     fig.plot(x=gauge_locs.iloc[46]['lon'], y=gauge_locs.iloc[46]['lat'], style='c0.125c', color='black')\n",
    "#     fig.plot(x=bay_gauges_df.iloc[17]['lon'], y=bay_gauges_df.iloc[17]['lat'], style='c0.125c', color='green')\n",
    "#     # fig.plot(x=xv, y=yv, color='red', pen='thin,red', transparency='50')\n",
    "# # fig.grdcontour(grid=grd, annotation=5, interval=\"-5,\", D='5m_moriches.data', limit=[-6,-4], label_placement='D50k')\n",
    "#     # fig.plot(subset_df, color='orange', style='c0.25c')\n",
    "#     # fig.text(x=subset_df.lon, y=subset_df.lat-0.0035, text=subset_df.index)\n",
    "#     fig.coast(shorelines=True)\n",
    "#     # fig.savefig('/home/catherinej/BarrierBreach/visualization/bay_gauge_locs.png')\n",
    "#     # fig.savefig('/home/catherinej/BarrierBreach/visualization/gauge_locations_moriches.png')\n",
    "#     fig.show()"
   ]
  },
  {
   "cell_type": "code",
   "execution_count": 25,
   "id": "e33550d6-7858-4e04-84c4-0c5b4d2bdcb4",
   "metadata": {},
   "outputs": [
    {
     "ename": "NameError",
     "evalue": "name 'fig' is not defined",
     "output_type": "error",
     "traceback": [
      "\u001b[0;31m---------------------------------------------------------------------------\u001b[0m",
      "\u001b[0;31mNameError\u001b[0m                                 Traceback (most recent call last)",
      "Cell \u001b[0;32mIn [25], line 1\u001b[0m\n\u001b[0;32m----> 1\u001b[0m \u001b[43mfig\u001b[49m\u001b[38;5;241m.\u001b[39mshow()\n",
      "\u001b[0;31mNameError\u001b[0m: name 'fig' is not defined"
     ]
    }
   ],
   "source": [
    "fig.show()"
   ]
  },
  {
   "cell_type": "code",
   "execution_count": 24,
   "id": "3494e0d6-1194-4a61-bab0-5b09f4f47065",
   "metadata": {},
   "outputs": [
    {
     "data": {
      "text/html": [
       "<div>\n",
       "<style scoped>\n",
       "    .dataframe tbody tr th:only-of-type {\n",
       "        vertical-align: middle;\n",
       "    }\n",
       "\n",
       "    .dataframe tbody tr th {\n",
       "        vertical-align: top;\n",
       "    }\n",
       "\n",
       "    .dataframe thead th {\n",
       "        text-align: right;\n",
       "    }\n",
       "</style>\n",
       "<table border=\"1\" class=\"dataframe\">\n",
       "  <thead>\n",
       "    <tr style=\"text-align: right;\">\n",
       "      <th></th>\n",
       "      <th>Unnamed: 0</th>\n",
       "      <th>GaugeNames</th>\n",
       "      <th>lon</th>\n",
       "      <th>lat</th>\n",
       "      <th>depth</th>\n",
       "      <th>Distance</th>\n",
       "      <th>Location</th>\n",
       "    </tr>\n",
       "  </thead>\n",
       "  <tbody>\n",
       "    <tr>\n",
       "      <th>16</th>\n",
       "      <td>60</td>\n",
       "      <td>60</td>\n",
       "      <td>-72.7545</td>\n",
       "      <td>40.7653</td>\n",
       "      <td>6.151253</td>\n",
       "      <td>1.449931</td>\n",
       "      <td>bay</td>\n",
       "    </tr>\n",
       "  </tbody>\n",
       "</table>\n",
       "</div>"
      ],
      "text/plain": [
       "    Unnamed: 0  GaugeNames      lon      lat     depth  Distance Location\n",
       "16          60          60 -72.7545  40.7653  6.151253  1.449931      bay"
      ]
     },
     "execution_count": 24,
     "metadata": {},
     "output_type": "execute_result"
    }
   ],
   "source": [
    "bay_gauges.loc[bay_gauges['GaugeNames'] == 60]"
   ]
  },
  {
   "cell_type": "code",
   "execution_count": 207,
   "id": "0f5c70df-52fa-4f58-b4ab-27dc5c5c7dce",
   "metadata": {},
   "outputs": [],
   "source": [
    "subset_df = subset_df.drop(subset_df.index[[99, 100, 97, 94, 95, 96, 98, 13,0]])"
   ]
  },
  {
   "cell_type": "code",
   "execution_count": 156,
   "id": "3f92d706-a059-4951-a2fc-13f3d8bcaf7d",
   "metadata": {},
   "outputs": [],
   "source": [
    "df = pd.read_table('5m_moriches.data')"
   ]
  },
  {
   "cell_type": "code",
   "execution_count": 157,
   "id": "3393958b-a344-4ab0-bd69-b68acdc5e9c4",
   "metadata": {},
   "outputs": [],
   "source": [
    "df = df.reset_index()"
   ]
  },
  {
   "cell_type": "code",
   "execution_count": 158,
   "id": "2b10ed7b-a400-4d30-a314-d2af52cdccaf",
   "metadata": {},
   "outputs": [],
   "source": [
    "df = df.rename(columns={'level_0': 'lon', 'level_1': 'lat'})"
   ]
  },
  {
   "cell_type": "code",
   "execution_count": 204,
   "id": "2b10bdce-e48d-4c8f-ab0c-d4cd41be700e",
   "metadata": {},
   "outputs": [],
   "source": [
    "# df = df.drop(columns='> -5 contour -Z-5')\n",
    "subset_df = df[::5]"
   ]
  },
  {
   "cell_type": "code",
   "execution_count": 171,
   "id": "fca427c8-c342-43fb-8df4-e7af0e816b4b",
   "metadata": {},
   "outputs": [],
   "source": [
    "df = df.apply(pd.to_numeric, errors='coerce').dropna().reset_index()"
   ]
  },
  {
   "cell_type": "code",
   "execution_count": 172,
   "id": "f04a62ab-1433-4a5c-ad78-4eb878b473c4",
   "metadata": {},
   "outputs": [
    {
     "name": "stdout",
     "output_type": "stream",
     "text": [
      "<class 'pandas.core.frame.DataFrame'>\n",
      "RangeIndex: 504 entries, 0 to 503\n",
      "Data columns (total 3 columns):\n",
      " #   Column  Non-Null Count  Dtype  \n",
      "---  ------  --------------  -----  \n",
      " 0   index   504 non-null    int64  \n",
      " 1   lon     504 non-null    float64\n",
      " 2   lat     504 non-null    float64\n",
      "dtypes: float64(2), int64(1)\n",
      "memory usage: 11.9 KB\n"
     ]
    }
   ],
   "source": [
    "# df['lat'] = df['lat'].astype('float')\n",
    "df.info()"
   ]
  },
  {
   "cell_type": "code",
   "execution_count": 184,
   "id": "2469185d-87a1-435d-9754-488e543f6df6",
   "metadata": {
    "collapsed": true,
    "jupyter": {
     "outputs_hidden": true
    },
    "tags": []
   },
   "outputs": [
    {
     "name": "stdout",
     "output_type": "stream",
     "text": [
      "0            NaN\n",
      "1      40.807045\n",
      "2      40.806872\n",
      "3      40.806766\n",
      "4      40.806671\n",
      "         ...    \n",
      "499    40.747292\n",
      "500    40.744286\n",
      "501    40.744167\n",
      "502    40.743958\n",
      "503    40.744167\n",
      "Name: lat, Length: 504, dtype: float64 0            NaN\n",
      "1     -72.580000\n",
      "2     -72.580833\n",
      "3     -72.581667\n",
      "4     -72.582500\n",
      "         ...    \n",
      "499   -72.850000\n",
      "500   -72.826667\n",
      "501   -72.825833\n",
      "502   -72.826667\n",
      "503   -72.826806\n",
      "Name: lon, Length: 504, dtype: float64 1      40.806872\n",
      "2      40.806766\n",
      "3      40.806671\n",
      "4      40.806667\n",
      "5      40.806531\n",
      "         ...    \n",
      "499    40.744286\n",
      "500    40.744167\n",
      "501    40.743958\n",
      "502    40.744167\n",
      "503    40.744286\n",
      "Name: lat, Length: 503, dtype: float64 1     -72.580833\n",
      "2     -72.581667\n",
      "3     -72.582500\n",
      "4     -72.582540\n",
      "5     -72.583333\n",
      "         ...    \n",
      "499   -72.826667\n",
      "500   -72.825833\n",
      "501   -72.826667\n",
      "502   -72.826806\n",
      "503   -72.826667\n",
      "Name: lon, Length: 503, dtype: float64\n"
     ]
    }
   ],
   "source": [
    "# vectorized haversine function\n",
    "def haversine(lat1, lon1, lat2, lon2, to_radians=True, earth_radius=6371000):\n",
    "    \"\"\"\n",
    "    slightly modified version: of http://stackoverflow.com/a/29546836/2901002\n",
    "\n",
    "    Calculate the great circle distance between two points\n",
    "    on the earth (specified in decimal degrees or in radians)\n",
    "\n",
    "    All (lat, lon) coordinates must have numeric dtypes and be of equal length.\n",
    "\n",
    "    \"\"\"\n",
    "    if to_radians:\n",
    "        lat1, lon1, lat2, lon2 = map(np.radians,[lat1, lon1, lat2, lon2])\n",
    "\n",
    "    a = np.sin((lat2-lat1)/2.0)**2 + \\\n",
    "        np.cos(lat1) * np.cos(lat2) * np.sin((lon2-lon1)/2.0)**2\n",
    "\n",
    "    return earth_radius * 2 * np.arcsin(np.sqrt(a))\n",
    "\n",
    "\n",
    "df['dist'] = \\\n",
    "    haversine(df.lat.shift(), df.lon.shift(),\n",
    "                 df.loc[1:, 'lat'], df.loc[1:, 'lon'])"
   ]
  },
  {
   "cell_type": "code",
   "execution_count": 185,
   "id": "76b4117c-9de0-456d-9bd3-1ee748c6a238",
   "metadata": {
    "tags": []
   },
   "outputs": [
    {
     "data": {
      "text/html": [
       "<div>\n",
       "<style scoped>\n",
       "    .dataframe tbody tr th:only-of-type {\n",
       "        vertical-align: middle;\n",
       "    }\n",
       "\n",
       "    .dataframe tbody tr th {\n",
       "        vertical-align: top;\n",
       "    }\n",
       "\n",
       "    .dataframe thead th {\n",
       "        text-align: right;\n",
       "    }\n",
       "</style>\n",
       "<table border=\"1\" class=\"dataframe\">\n",
       "  <thead>\n",
       "    <tr style=\"text-align: right;\">\n",
       "      <th></th>\n",
       "      <th>index</th>\n",
       "      <th>lon</th>\n",
       "      <th>lat</th>\n",
       "      <th>dist</th>\n",
       "    </tr>\n",
       "  </thead>\n",
       "  <tbody>\n",
       "    <tr>\n",
       "      <th>0</th>\n",
       "      <td>0</td>\n",
       "      <td>-72.580000</td>\n",
       "      <td>40.807045</td>\n",
       "      <td>NaN</td>\n",
       "    </tr>\n",
       "    <tr>\n",
       "      <th>1</th>\n",
       "      <td>1</td>\n",
       "      <td>-72.580833</td>\n",
       "      <td>40.806872</td>\n",
       "      <td>72.723224</td>\n",
       "    </tr>\n",
       "    <tr>\n",
       "      <th>2</th>\n",
       "      <td>2</td>\n",
       "      <td>-72.581667</td>\n",
       "      <td>40.806766</td>\n",
       "      <td>71.121968</td>\n",
       "    </tr>\n",
       "    <tr>\n",
       "      <th>3</th>\n",
       "      <td>3</td>\n",
       "      <td>-72.582500</td>\n",
       "      <td>40.806671</td>\n",
       "      <td>70.926870</td>\n",
       "    </tr>\n",
       "    <tr>\n",
       "      <th>4</th>\n",
       "      <td>4</td>\n",
       "      <td>-72.582540</td>\n",
       "      <td>40.806667</td>\n",
       "      <td>3.414988</td>\n",
       "    </tr>\n",
       "    <tr>\n",
       "      <th>...</th>\n",
       "      <td>...</td>\n",
       "      <td>...</td>\n",
       "      <td>...</td>\n",
       "      <td>...</td>\n",
       "    </tr>\n",
       "    <tr>\n",
       "      <th>499</th>\n",
       "      <td>506</td>\n",
       "      <td>-72.826667</td>\n",
       "      <td>40.744286</td>\n",
       "      <td>1993.878992</td>\n",
       "    </tr>\n",
       "    <tr>\n",
       "      <th>500</th>\n",
       "      <td>507</td>\n",
       "      <td>-72.825833</td>\n",
       "      <td>40.744167</td>\n",
       "      <td>71.440969</td>\n",
       "    </tr>\n",
       "    <tr>\n",
       "      <th>501</th>\n",
       "      <td>508</td>\n",
       "      <td>-72.826667</td>\n",
       "      <td>40.743958</td>\n",
       "      <td>73.927336</td>\n",
       "    </tr>\n",
       "    <tr>\n",
       "      <th>502</th>\n",
       "      <td>509</td>\n",
       "      <td>-72.826806</td>\n",
       "      <td>40.744167</td>\n",
       "      <td>25.952876</td>\n",
       "    </tr>\n",
       "    <tr>\n",
       "      <th>503</th>\n",
       "      <td>510</td>\n",
       "      <td>-72.826667</td>\n",
       "      <td>40.744286</td>\n",
       "      <td>17.667383</td>\n",
       "    </tr>\n",
       "  </tbody>\n",
       "</table>\n",
       "<p>504 rows × 4 columns</p>\n",
       "</div>"
      ],
      "text/plain": [
       "     index        lon        lat         dist\n",
       "0        0 -72.580000  40.807045          NaN\n",
       "1        1 -72.580833  40.806872    72.723224\n",
       "2        2 -72.581667  40.806766    71.121968\n",
       "3        3 -72.582500  40.806671    70.926870\n",
       "4        4 -72.582540  40.806667     3.414988\n",
       "..     ...        ...        ...          ...\n",
       "499    506 -72.826667  40.744286  1993.878992\n",
       "500    507 -72.825833  40.744167    71.440969\n",
       "501    508 -72.826667  40.743958    73.927336\n",
       "502    509 -72.826806  40.744167    25.952876\n",
       "503    510 -72.826667  40.744286    17.667383\n",
       "\n",
       "[504 rows x 4 columns]"
      ]
     },
     "execution_count": 185,
     "metadata": {},
     "output_type": "execute_result"
    }
   ],
   "source": [
    "df "
   ]
  },
  {
   "cell_type": "code",
   "execution_count": 179,
   "id": "072ef231-9c6c-4726-ac3a-2de07d662abd",
   "metadata": {},
   "outputs": [
    {
     "data": {
      "text/plain": [
       "(0            NaN\n",
       " 1      40.807045\n",
       " 2      40.806872\n",
       " 3      40.806766\n",
       " 4      40.806671\n",
       "          ...    \n",
       " 499    40.747292\n",
       " 500    40.744286\n",
       " 501    40.744167\n",
       " 502    40.743958\n",
       " 503    40.744167\n",
       " Name: lat, Length: 504, dtype: float64,\n",
       " 0            NaN\n",
       " 1     -72.580000\n",
       " 2     -72.580833\n",
       " 3     -72.581667\n",
       " 4     -72.582500\n",
       "          ...    \n",
       " 499   -72.850000\n",
       " 500   -72.826667\n",
       " 501   -72.825833\n",
       " 502   -72.826667\n",
       " 503   -72.826806\n",
       " Name: lon, Length: 504, dtype: float64,\n",
       " 1      40.806872\n",
       " 2      40.806766\n",
       " 3      40.806671\n",
       " 4      40.806667\n",
       " 5      40.806531\n",
       "          ...    \n",
       " 499    40.744286\n",
       " 500    40.744167\n",
       " 501    40.743958\n",
       " 502    40.744167\n",
       " 503    40.744286\n",
       " Name: lat, Length: 503, dtype: float64,\n",
       " 1     -72.580833\n",
       " 2     -72.581667\n",
       " 3     -72.582500\n",
       " 4     -72.582540\n",
       " 5     -72.583333\n",
       "          ...    \n",
       " 499   -72.826667\n",
       " 500   -72.825833\n",
       " 501   -72.826667\n",
       " 502   -72.826806\n",
       " 503   -72.826667\n",
       " Name: lon, Length: 503, dtype: float64)"
      ]
     },
     "execution_count": 179,
     "metadata": {},
     "output_type": "execute_result"
    }
   ],
   "source": [
    "df.lat.shift(), df.lon.shift(), df.loc[1:, 'lat'], df.loc[1:, 'lon']"
   ]
  },
  {
   "cell_type": "code",
   "execution_count": 205,
   "id": "09c6a0e2-4ffd-45df-9c1e-a640b5b3ed87",
   "metadata": {},
   "outputs": [],
   "source": [
    "subset_df = subset_df.reset_index()"
   ]
  },
  {
   "cell_type": "code",
   "execution_count": 206,
   "id": "eaa92941-7e37-4812-8112-f70b6371a75b",
   "metadata": {},
   "outputs": [
    {
     "data": {
      "text/html": [
       "<div>\n",
       "<style scoped>\n",
       "    .dataframe tbody tr th:only-of-type {\n",
       "        vertical-align: middle;\n",
       "    }\n",
       "\n",
       "    .dataframe tbody tr th {\n",
       "        vertical-align: top;\n",
       "    }\n",
       "\n",
       "    .dataframe thead th {\n",
       "        text-align: right;\n",
       "    }\n",
       "</style>\n",
       "<table border=\"1\" class=\"dataframe\">\n",
       "  <thead>\n",
       "    <tr style=\"text-align: right;\">\n",
       "      <th></th>\n",
       "      <th>lon</th>\n",
       "      <th>lat</th>\n",
       "      <th>dist</th>\n",
       "    </tr>\n",
       "  </thead>\n",
       "  <tbody>\n",
       "    <tr>\n",
       "      <th>0</th>\n",
       "      <td>-72.580000</td>\n",
       "      <td>40.807045</td>\n",
       "      <td>NaN</td>\n",
       "    </tr>\n",
       "    <tr>\n",
       "      <th>1</th>\n",
       "      <td>-72.583333</td>\n",
       "      <td>40.806531</td>\n",
       "      <td>68.434478</td>\n",
       "    </tr>\n",
       "    <tr>\n",
       "      <th>2</th>\n",
       "      <td>-72.587500</td>\n",
       "      <td>40.806177</td>\n",
       "      <td>70.147150</td>\n",
       "    </tr>\n",
       "    <tr>\n",
       "      <th>3</th>\n",
       "      <td>-72.591667</td>\n",
       "      <td>40.806547</td>\n",
       "      <td>72.603754</td>\n",
       "    </tr>\n",
       "    <tr>\n",
       "      <th>4</th>\n",
       "      <td>-72.595000</td>\n",
       "      <td>40.805151</td>\n",
       "      <td>99.838744</td>\n",
       "    </tr>\n",
       "    <tr>\n",
       "      <th>...</th>\n",
       "      <td>...</td>\n",
       "      <td>...</td>\n",
       "      <td>...</td>\n",
       "    </tr>\n",
       "    <tr>\n",
       "      <th>96</th>\n",
       "      <td>-72.600556</td>\n",
       "      <td>40.809167</td>\n",
       "      <td>60.312730</td>\n",
       "    </tr>\n",
       "    <tr>\n",
       "      <th>97</th>\n",
       "      <td>-72.749722</td>\n",
       "      <td>40.793333</td>\n",
       "      <td>35.323299</td>\n",
       "    </tr>\n",
       "    <tr>\n",
       "      <th>98</th>\n",
       "      <td>-72.788056</td>\n",
       "      <td>40.755833</td>\n",
       "      <td>28.034586</td>\n",
       "    </tr>\n",
       "    <tr>\n",
       "      <th>99</th>\n",
       "      <td>-72.849583</td>\n",
       "      <td>40.746667</td>\n",
       "      <td>77.857914</td>\n",
       "    </tr>\n",
       "    <tr>\n",
       "      <th>100</th>\n",
       "      <td>-72.825833</td>\n",
       "      <td>40.744167</td>\n",
       "      <td>71.440969</td>\n",
       "    </tr>\n",
       "  </tbody>\n",
       "</table>\n",
       "<p>101 rows × 3 columns</p>\n",
       "</div>"
      ],
      "text/plain": [
       "           lon        lat       dist\n",
       "0   -72.580000  40.807045        NaN\n",
       "1   -72.583333  40.806531  68.434478\n",
       "2   -72.587500  40.806177  70.147150\n",
       "3   -72.591667  40.806547  72.603754\n",
       "4   -72.595000  40.805151  99.838744\n",
       "..         ...        ...        ...\n",
       "96  -72.600556  40.809167  60.312730\n",
       "97  -72.749722  40.793333  35.323299\n",
       "98  -72.788056  40.755833  28.034586\n",
       "99  -72.849583  40.746667  77.857914\n",
       "100 -72.825833  40.744167  71.440969\n",
       "\n",
       "[101 rows x 3 columns]"
      ]
     },
     "execution_count": 206,
     "metadata": {},
     "output_type": "execute_result"
    }
   ],
   "source": [
    "subset_df = subset_df.drop(columns=['level_0', 'index'])\n",
    "subset_df"
   ]
  },
  {
   "cell_type": "code",
   "execution_count": 209,
   "id": "5c1da690-560f-4467-80cb-f3abfc400de7",
   "metadata": {},
   "outputs": [],
   "source": [
    "subset_df.to_csv('ocean_gauges.csv')"
   ]
  },
  {
   "cell_type": "code",
   "execution_count": 11,
   "id": "560f8012-07a7-4346-a2a9-2b040114b6f6",
   "metadata": {},
   "outputs": [
    {
     "name": "stderr",
     "output_type": "stream",
     "text": [
      "/tmp/ipykernel_1482056/1284784489.py:8: FutureWarning: The 'color' parameter has been deprecated since v0.8.0 and will be removed in v0.12.0. Please use 'fill' instead.\n",
      "  fig.plot(x=bay_gauges.lon, y=bay_gauges.lat, color='red', style='c0.125c')\n"
     ]
    },
    {
     "data": {
      "image/png": "[encoded data removed]",
      "text/plain": [
       "<IPython.core.display.Image object>"
      ]
     },
     "metadata": {
      "image/png": {
       "width": 500
      }
     },
     "output_type": "display_data"
    }
   ],
   "source": [
    "# ocean_g_df = pd.read_csv('/home/catherinej/BarrierBreach/src/visualization/ocean_gauges.csv', usecols=[1,2])\n",
    "fig = pygmt.Figure()\n",
    "grd = pygmt.datasets.load_earth_relief(region= [-72.88, -72.58, 40.68, 40.83],resolution='01s',)\n",
    "with pygmt.config(\n",
    "    FORMAT_GEO_MAP='ddd.xx'):\n",
    "    fig.basemap(region=[-72.88, -72.58, 40.68, 40.83], projection='M25c', frame=True)\n",
    "\n",
    "    fig.plot(x=bay_gauges.lon, y=bay_gauges.lat, color='red', style='c0.125c')\n",
    "    # fig.plot(x=-72.875,y=40.73, color='blue', style='c0.25c')\n",
    "    # fig.plot(x=-72.59, y=40.81, color='blue', style='c0.25c')\n",
    "    fig.text(x=bay_gauges.lon+0.0035, y=bay_gauges.lat-0.0035, text=bay_gauges.index)\n",
    "# fig.grdcontour(grid=grd, annotation=5, interval=\"-5,\", D='5m_moriches.data', limit=[-6,-4], label_placement='D50k')\n",
    "    # fig.plot(subset_df, color='orange', style='c0.25c')\n",
    "    # fig.text(x=subset_df.lon, y=subset_df.lat-0.0035, text=subset_df.index)\n",
    "    fig.coast(shorelines=True)\n",
    "    fig.show()"
   ]
  },
  {
   "cell_type": "code",
   "execution_count": 13,
   "id": "e11f7967-1dce-4a46-b879-ca0294806888",
   "metadata": {},
   "outputs": [
    {
     "data": {
      "text/html": [
       "<div>\n",
       "<style scoped>\n",
       "    .dataframe tbody tr th:only-of-type {\n",
       "        vertical-align: middle;\n",
       "    }\n",
       "\n",
       "    .dataframe tbody tr th {\n",
       "        vertical-align: top;\n",
       "    }\n",
       "\n",
       "    .dataframe thead th {\n",
       "        text-align: right;\n",
       "    }\n",
       "</style>\n",
       "<table border=\"1\" class=\"dataframe\">\n",
       "  <thead>\n",
       "    <tr style=\"text-align: right;\">\n",
       "      <th></th>\n",
       "      <th>Unnamed: 0</th>\n",
       "      <th>GaugeNames</th>\n",
       "      <th>lon</th>\n",
       "      <th>lat</th>\n",
       "      <th>depth</th>\n",
       "      <th>Distance</th>\n",
       "      <th>Location</th>\n",
       "    </tr>\n",
       "  </thead>\n",
       "  <tbody>\n",
       "    <tr>\n",
       "      <th>17</th>\n",
       "      <td>67</td>\n",
       "      <td>67</td>\n",
       "      <td>-72.8726</td>\n",
       "      <td>40.7352</td>\n",
       "      <td>3.190144</td>\n",
       "      <td>37.38804</td>\n",
       "      <td>bay</td>\n",
       "    </tr>\n",
       "  </tbody>\n",
       "</table>\n",
       "</div>"
      ],
      "text/plain": [
       "    Unnamed: 0  GaugeNames      lon      lat     depth  Distance Location\n",
       "17          67          67 -72.8726  40.7352  3.190144  37.38804      bay"
      ]
     },
     "execution_count": 13,
     "metadata": {},
     "output_type": "execute_result"
    }
   ],
   "source": [
    "bay_gauges[bay_gauges['Unnamed: 0'] == 67]"
   ]
  },
  {
   "cell_type": "code",
   "execution_count": null,
   "id": "95e95e50-43d9-4397-906e-be68a17e7e97",
   "metadata": {},
   "outputs": [],
   "source": []
  }
 ],
 "metadata": {
  "kernelspec": {
   "display_name": "Python 3 (ipykernel)",
   "language": "python",
   "name": "python3"
  },
  "language_info": {
   "codemirror_mode": {
    "name": "ipython",
    "version": 3
   },
   "file_extension": ".py",
   "mimetype": "text/x-python",
   "name": "python",
   "nbconvert_exporter": "python",
   "pygments_lexer": "ipython3",
   "version": "3.10.4"
  },
  "vscode": {
   "interpreter": {
    "hash": "55340439c73830d36d17cf7eddcf349a315216a0c923cd30144ee1886571d011"
   }
  }
 },
 "nbformat": 4,
 "nbformat_minor": 5
}
