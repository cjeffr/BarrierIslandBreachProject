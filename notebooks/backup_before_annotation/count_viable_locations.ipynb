{
 "cells": [
  {
   "cell_type": "code",
   "execution_count": 60,
   "id": "f3d86377-591d-451d-9b92-8816f221bafd",
   "metadata": {},
   "outputs": [],
   "source": [
    "import pandas as pd\n",
    "import numpy as np\n",
    "import sys\n",
    "import os\n",
    "import glob\n",
    "from clawpack.geoclaw import topotools\n",
    "import breach_randomization as br\n",
    "import shutil"
   ]
  },
  {
   "cell_type": "code",
   "execution_count": 5,
   "id": "82c2f2d2-85b5-4c2f-9e1c-223830fc71d6",
   "metadata": {
    "tags": []
   },
   "outputs": [
    {
     "name": "stdout",
     "output_type": "stream",
     "text": [
      "306\n"
     ]
    }
   ],
   "source": [
    "# Load the masked island data\n",
    "masked_island = '/home/catherinej/BarrierBreach/src/barrierbreach/east_masked_moriches.npz'\n",
    "with np.load(masked_island) as npz:\n",
    "    island = np.ma.MaskedArray(**npz)\n",
    "# iterate over all columns\n",
    "import itertools\n",
    "topo = topotools.read_netcdf('/home/catherinej/bathymetry/moriches.nc')\n",
    "filter_region = [-72.885652,-72.634247,40.718299,40.828344]\n",
    "topo_data = topo.crop(filter_region)\n",
    "\n",
    "def locate_topo_index(south_idx, north_idx, lon_idx):\n",
    "    south = topo_data.y[south_idx]\n",
    "    north = topo_data.y[north_idx]\n",
    "    lon = topo_data.x[lon_idx]\n",
    "    return south, north, lon\n",
    "\n",
    "gauge_locs = pd.read_csv('/home/catherinej/BarrierBreach/data/ocean_gauges.csv')\n",
    "gauge_locs = gauge_locs.drop(['Unnamed: 0', 'dist'], axis=1)\n",
    "island_idxs = list(zip(*np.where(island.mask==False)))\n",
    "lons = np.unique([lon for lat,lon in island_idxs])\n",
    "lats = np.unique([lat for lat,lon in island_idxs])\n",
    "num_viable = 0\n",
    "for l in lons:\n",
    "\n",
    "    south, north, lon = locate_topo_index(lats[0], lats[-1], l)\n",
    "    max_dune = max_dune_height(topo_data, lats[0], lats[-1], l)\n",
    "    df = find_nearest_gauges(gauge_locs.copy(), lon, (south + north)/2, 1000)\n",
    "    # print(df.index.values)\n",
    "    gdata = load_gauge_data(df.index.values, '/home/catherinej/original_study_300k_r_archive/reference_gauges/')\n",
    "    viable = check_location_viability(gdata, max_dune)\n",
    "    if viable:\n",
    "        num_viable +=1\n",
    "print(num_viable)\n",
    "# check to make sure its viable\n",
    "# increase count by 1"
   ]
  },
  {
   "cell_type": "code",
   "execution_count": 84,
   "id": "46db8900-0da4-462b-8aa1-37bd3ddbef08",
   "metadata": {},
   "outputs": [
    {
     "data": {
      "text/plain": [
       "44061"
      ]
     },
     "execution_count": 84,
     "metadata": {},
     "output_type": "execute_result"
    }
   ],
   "source": [
    "import matplotlib.pyplot as plt\n",
    "# plt.pcolormesh(topo_data.X, topo_data.Y, np.where(island.mask==False))\n",
    "len(island_idxs)"
   ]
  },
  {
   "cell_type": "code",
   "execution_count": 4,
   "id": "89826ab8-0e9a-4102-8b90-abd38c77b005",
   "metadata": {},
   "outputs": [],
   "source": [
    "def max_dune_height(topo_data, ylow, yhigh, x):\n",
    "    return topo_data.Z[ylow:yhigh, x].max()\n",
    "\n",
    "def calc_distance(lat1, lat2, lon1, lon2):\n",
    "    from math import sin, cos, sqrt, atan2, radians\n",
    "    R = 6373.0 * 1000 # convert km to m\n",
    "    lat1 = radians(lat1)\n",
    "    lon1 = radians(lon1)\n",
    "    lat2 = radians(lat2)\n",
    "    lon2 = radians(lon2)\n",
    "    \n",
    "    dlon = lon2 - lon1\n",
    "    dlat = lat2 - lat1\n",
    "    \n",
    "    a = sin(dlat / 2)**2 + cos(lat1)*cos(lat2) * sin(dlon/2)**2\n",
    "    c = 2 * atan2(sqrt(a), sqrt(1-a))\n",
    "    distance = R * c\n",
    "    return distance\n",
    "\n",
    "\n",
    "def gauges_locs_semicircle(gauge_x, gauge_y, center_x, \n",
    "                           center_y, radius, lon1, lat1):\n",
    "    v1 = [lon1 - center_x, lat1 - center_y] # vect1 = b - center_pt\n",
    "    v2 = [gauge_x - center_x, gauge_y - center_y] # p - center_pt\n",
    "    xp = v1[0]*v2[1] - v1[1]*v2[0]\n",
    "    dist_to_center = calc_distance(gauge_y, center_y, gauge_x, center_x)\n",
    "    # print('distance to center', dist_to_center)\n",
    "    if xp < 0: # gauge is to right of line (ie ocean)\n",
    "        if dist_to_center <= radius:\n",
    "            return dist_to_center\n",
    "\n",
    "def get_vector_points(lat, lon, bearing, distance):\n",
    "    import math\n",
    "\n",
    "    R = 6378.1 * 1000 #Radius of the Earth (m)\n",
    "    brng = math.radians(bearing) #Bearing is 90 degrees converted to radians.\n",
    "    d = distance #Distance in km\n",
    "\n",
    "    #lat2  52.20444 - the lat result I'm hoping for\n",
    "    #lon2  0.36056 - the long result I'm hoping for.\n",
    "\n",
    "    lat1 = math.radians(lat) #Current lat point converted to radians\n",
    "    lon1 = math.radians(lon) #Current long point converted to radians\n",
    "\n",
    "    lat2 = math.asin( math.sin(lat1)*math.cos(d/R) +\n",
    "         math.cos(lat1)*math.sin(d/R)*math.cos(brng))\n",
    "\n",
    "    lon2 = lon1 + math.atan2(math.sin(brng)*math.sin(d/R)*math.cos(lat1),\n",
    "                 math.cos(d/R)-math.sin(lat1)*math.sin(lat2))\n",
    "\n",
    "    lat2 = math.degrees(lat2)\n",
    "    lon2 = math.degrees(lon2)\n",
    "\n",
    "    return lat2, lon2\n",
    "\n",
    "def get_bearing():\n",
    "    import math\n",
    "    # Upper adn lower points along moriches barrier island\n",
    "    llon = -72.875\n",
    "    ulon = -72.59\n",
    "    llat = 40.73\n",
    "    ulat = 40.81\n",
    "    dLon = (ulon - llon)\n",
    "    x = math.cos(math.radians(ulat)) * math.sin(math.radians(dLon))\n",
    "    y = math.cos(math.radians(llat)) * math.sin(math.radians(ulat)) - \\\n",
    "        math.sin(math.radians(llat)) * math.cos(math.radians(ulat)) * \\\n",
    "        math.cos(math.radians(dLon))\n",
    "    brng = np.arctan2(x,y)\n",
    "    brng = np.degrees(brng)\n",
    "\n",
    "    return brng\n",
    "\n",
    "def find_nearest_gauges(df, breach_lon, breach_lat, distance):\n",
    "    # df = pd.read_csv('/home/catherinej/BarrierBreach/src/visualization/ocean_gauges.csv')\n",
    "    # df = df.drop(['Unnamed: 0', 'dist'], axis=1)\n",
    "    bearing = get_bearing()\n",
    "    lat2, lon2 = get_vector_points(breach_lat, breach_lon, bearing, distance)\n",
    "    df['dist'] = [gauges_locs_semicircle(x, y, breach_lon, breach_lat, distance,\n",
    "                                        lon2, lat2) for x, y in zip(df['lon'],\n",
    "                                                                    df['lat'])]\n",
    "    return df[~df['dist'].isnull()]\n",
    "    # return df\n",
    "\n",
    "\n",
    "def load_gauge_data(gauge_names, PATH):\n",
    "    import os\n",
    "    gauge_data_list = []\n",
    "    for gauge in gauge_names:\n",
    "        if gauge != 40:\n",
    "            cols = ['Time', f'{gauge}_eta']\n",
    "            gauge_path = os.path.join(PATH, f'gauge5{gauge:04}.txt')\n",
    "            df = pd.read_csv(gauge_path, skiprows=4, header=None, delim_whitespace=True,\n",
    "                                usecols=[1,5], index_col='Time', names=cols)\n",
    "            gauge_data_list.append(df)\n",
    "    if len(gauge_data_list) > 1:\n",
    "        gauge_data_df = pd.concat(gauge_data_list, axis=1)\n",
    "        return gauge_data_df\n",
    "    else:\n",
    "        return gauge_data_list\n",
    "    \n",
    "    \n",
    "    \n",
    "    \n",
    "def check_location_viability(gdata, max_dune):\n",
    "    \"\"\"Checks to make sure that a breach location reaches the required minimum % of dune height\n",
    "\n",
    "    Args:\n",
    "        df (_dataframe_): data frame of all tide gauge timeseries\n",
    "        max_dune (_type_): max dune height at chosen breach location\n",
    "    \"\"\"\n",
    "    breach_time = []\n",
    "    x_percent = max_dune * .24\n",
    "    cols_greater = (gdata>= x_percent).any()\n",
    "    # print('Cols greater',cols_greater)\n",
    "    if cols_greater.any():\n",
    "        return True\n",
    "    else:\n",
    "        # print('This location is not viable')\n",
    "        return False"
   ]
  },
  {
   "cell_type": "code",
   "execution_count": 59,
   "id": "30be0722-14c5-4f24-ac07-9295b49bff58",
   "metadata": {},
   "outputs": [
    {
     "data": {
      "text/plain": [
       "[]"
      ]
     },
     "execution_count": 59,
     "metadata": {},
     "output_type": "execute_result"
    }
   ],
   "source": [
    "gdata"
   ]
  },
  {
   "cell_type": "code",
   "execution_count": 52,
   "id": "038b41c6-0bce-41ce-bfc7-68d0f7a1bd8f",
   "metadata": {},
   "outputs": [
    {
     "name": "stderr",
     "output_type": "stream",
     "text": [
      "basemap [ERROR]: Must specify at least one of -A, -B, -D, -L, -T\n"
     ]
    },
    {
     "ename": "GMTCLibError",
     "evalue": "Module 'basemap' failed with status code 72:\nbasemap [ERROR]: Must specify at least one of -A, -B, -D, -L, -T",
     "output_type": "error",
     "traceback": [
      "\u001b[0;31m---------------------------------------------------------------------------\u001b[0m",
      "\u001b[0;31mGMTCLibError\u001b[0m                              Traceback (most recent call last)",
      "Cell \u001b[0;32mIn[52], line 3\u001b[0m\n\u001b[1;32m      1\u001b[0m \u001b[38;5;28;01mimport\u001b[39;00m \u001b[38;5;21;01mpygmt\u001b[39;00m\n\u001b[1;32m      2\u001b[0m fig \u001b[38;5;241m=\u001b[39m pygmt\u001b[38;5;241m.\u001b[39mFigure()\n\u001b[0;32m----> 3\u001b[0m \u001b[43mfig\u001b[49m\u001b[38;5;241;43m.\u001b[39;49m\u001b[43mbasemap\u001b[49m\u001b[43m(\u001b[49m\u001b[43mregion\u001b[49m\u001b[38;5;241;43m=\u001b[39;49m\u001b[43mfilter_region\u001b[49m\u001b[43m,\u001b[49m\u001b[43m \u001b[49m\u001b[43mprojection\u001b[49m\u001b[38;5;241;43m=\u001b[39;49m\u001b[38;5;124;43m'\u001b[39;49m\u001b[38;5;124;43mM3\u001b[39;49m\u001b[38;5;124;43m'\u001b[39;49m\u001b[43m)\u001b[49m\n\u001b[1;32m      4\u001b[0m fig\u001b[38;5;241m.\u001b[39mcoast(shorelines\u001b[38;5;241m=\u001b[39m\u001b[38;5;28;01mTrue\u001b[39;00m)\n\u001b[1;32m      5\u001b[0m fig\u001b[38;5;241m.\u001b[39mplot(x\u001b[38;5;241m=\u001b[39mlon, y\u001b[38;5;241m=\u001b[39msouth, style\u001b[38;5;241m=\u001b[39m\u001b[38;5;124m'\u001b[39m\u001b[38;5;124mc0.05c\u001b[39m\u001b[38;5;124m'\u001b[39m, color\u001b[38;5;241m=\u001b[39m\u001b[38;5;124m'\u001b[39m\u001b[38;5;124mred\u001b[39m\u001b[38;5;124m'\u001b[39m)\n",
      "File \u001b[0;32m~/miniconda3/envs/claw/lib/python3.10/site-packages/pygmt/helpers/decorators.py:598\u001b[0m, in \u001b[0;36muse_alias.<locals>.alias_decorator.<locals>.new_module\u001b[0;34m(*args, **kwargs)\u001b[0m\n\u001b[1;32m    591\u001b[0m     msg \u001b[38;5;241m=\u001b[39m (\n\u001b[1;32m    592\u001b[0m         \u001b[38;5;124m\"\u001b[39m\u001b[38;5;124mParameters \u001b[39m\u001b[38;5;124m'\u001b[39m\u001b[38;5;124mY\u001b[39m\u001b[38;5;124m'\u001b[39m\u001b[38;5;124m and \u001b[39m\u001b[38;5;124m'\u001b[39m\u001b[38;5;124myshift\u001b[39m\u001b[38;5;124m'\u001b[39m\u001b[38;5;124m are deprecated since v0.8.0. \u001b[39m\u001b[38;5;124m\"\u001b[39m\n\u001b[1;32m    593\u001b[0m         \u001b[38;5;124m\"\u001b[39m\u001b[38;5;124mand will be removed in v0.12.0. \u001b[39m\u001b[38;5;124m\"\u001b[39m\n\u001b[1;32m    594\u001b[0m         \u001b[38;5;124m\"\u001b[39m\u001b[38;5;124mUse Figure.shift_origin(yshift=...) instead.\u001b[39m\u001b[38;5;124m\"\u001b[39m\n\u001b[1;32m    595\u001b[0m     )\n\u001b[1;32m    596\u001b[0m     warnings\u001b[38;5;241m.\u001b[39mwarn(msg, category\u001b[38;5;241m=\u001b[39m\u001b[38;5;167;01mSyntaxWarning\u001b[39;00m, stacklevel\u001b[38;5;241m=\u001b[39m\u001b[38;5;241m2\u001b[39m)\n\u001b[0;32m--> 598\u001b[0m \u001b[38;5;28;01mreturn\u001b[39;00m \u001b[43mmodule_func\u001b[49m\u001b[43m(\u001b[49m\u001b[38;5;241;43m*\u001b[39;49m\u001b[43margs\u001b[49m\u001b[43m,\u001b[49m\u001b[43m \u001b[49m\u001b[38;5;241;43m*\u001b[39;49m\u001b[38;5;241;43m*\u001b[39;49m\u001b[43mkwargs\u001b[49m\u001b[43m)\u001b[49m\n",
      "File \u001b[0;32m~/miniconda3/envs/claw/lib/python3.10/site-packages/pygmt/helpers/decorators.py:738\u001b[0m, in \u001b[0;36mkwargs_to_strings.<locals>.converter.<locals>.new_module\u001b[0;34m(*args, **kwargs)\u001b[0m\n\u001b[1;32m    736\u001b[0m             kwargs[arg] \u001b[38;5;241m=\u001b[39m separators[fmt]\u001b[38;5;241m.\u001b[39mjoin(\u001b[38;5;124mf\u001b[39m\u001b[38;5;124m\"\u001b[39m\u001b[38;5;132;01m{\u001b[39;00mitem\u001b[38;5;132;01m}\u001b[39;00m\u001b[38;5;124m\"\u001b[39m \u001b[38;5;28;01mfor\u001b[39;00m item \u001b[38;5;129;01min\u001b[39;00m value)\n\u001b[1;32m    737\u001b[0m \u001b[38;5;66;03m# Execute the original function and return its output\u001b[39;00m\n\u001b[0;32m--> 738\u001b[0m \u001b[38;5;28;01mreturn\u001b[39;00m \u001b[43mmodule_func\u001b[49m\u001b[43m(\u001b[49m\u001b[38;5;241;43m*\u001b[39;49m\u001b[43margs\u001b[49m\u001b[43m,\u001b[49m\u001b[43m \u001b[49m\u001b[38;5;241;43m*\u001b[39;49m\u001b[38;5;241;43m*\u001b[39;49m\u001b[43mkwargs\u001b[49m\u001b[43m)\u001b[49m\n",
      "File \u001b[0;32m~/miniconda3/envs/claw/lib/python3.10/site-packages/pygmt/src/basemap.py:87\u001b[0m, in \u001b[0;36mbasemap\u001b[0;34m(self, **kwargs)\u001b[0m\n\u001b[1;32m     85\u001b[0m kwargs \u001b[38;5;241m=\u001b[39m \u001b[38;5;28mself\u001b[39m\u001b[38;5;241m.\u001b[39m_preprocess(\u001b[38;5;241m*\u001b[39m\u001b[38;5;241m*\u001b[39mkwargs)  \u001b[38;5;66;03m# pylint: disable=protected-access\u001b[39;00m\n\u001b[1;32m     86\u001b[0m \u001b[38;5;28;01mwith\u001b[39;00m Session() \u001b[38;5;28;01mas\u001b[39;00m lib:\n\u001b[0;32m---> 87\u001b[0m     \u001b[43mlib\u001b[49m\u001b[38;5;241;43m.\u001b[39;49m\u001b[43mcall_module\u001b[49m\u001b[43m(\u001b[49m\u001b[43mmodule\u001b[49m\u001b[38;5;241;43m=\u001b[39;49m\u001b[38;5;124;43m\"\u001b[39;49m\u001b[38;5;124;43mbasemap\u001b[39;49m\u001b[38;5;124;43m\"\u001b[39;49m\u001b[43m,\u001b[49m\u001b[43m \u001b[49m\u001b[43margs\u001b[49m\u001b[38;5;241;43m=\u001b[39;49m\u001b[43mbuild_arg_string\u001b[49m\u001b[43m(\u001b[49m\u001b[43mkwargs\u001b[49m\u001b[43m)\u001b[49m\u001b[43m)\u001b[49m\n",
      "File \u001b[0;32m~/miniconda3/envs/claw/lib/python3.10/site-packages/pygmt/clib/session.py:530\u001b[0m, in \u001b[0;36mSession.call_module\u001b[0;34m(self, module, args)\u001b[0m\n\u001b[1;32m    526\u001b[0m status \u001b[38;5;241m=\u001b[39m c_call_module(\n\u001b[1;32m    527\u001b[0m     \u001b[38;5;28mself\u001b[39m\u001b[38;5;241m.\u001b[39msession_pointer, module\u001b[38;5;241m.\u001b[39mencode(), mode, args\u001b[38;5;241m.\u001b[39mencode()\n\u001b[1;32m    528\u001b[0m )\n\u001b[1;32m    529\u001b[0m \u001b[38;5;28;01mif\u001b[39;00m status \u001b[38;5;241m!=\u001b[39m \u001b[38;5;241m0\u001b[39m:\n\u001b[0;32m--> 530\u001b[0m     \u001b[38;5;28;01mraise\u001b[39;00m GMTCLibError(\n\u001b[1;32m    531\u001b[0m         \u001b[38;5;124mf\u001b[39m\u001b[38;5;124m\"\u001b[39m\u001b[38;5;124mModule \u001b[39m\u001b[38;5;124m'\u001b[39m\u001b[38;5;132;01m{\u001b[39;00mmodule\u001b[38;5;132;01m}\u001b[39;00m\u001b[38;5;124m'\u001b[39m\u001b[38;5;124m failed with status code \u001b[39m\u001b[38;5;132;01m{\u001b[39;00mstatus\u001b[38;5;132;01m}\u001b[39;00m\u001b[38;5;124m:\u001b[39m\u001b[38;5;130;01m\\n\u001b[39;00m\u001b[38;5;132;01m{\u001b[39;00m\u001b[38;5;28mself\u001b[39m\u001b[38;5;241m.\u001b[39m_error_message\u001b[38;5;132;01m}\u001b[39;00m\u001b[38;5;124m\"\u001b[39m\n\u001b[1;32m    532\u001b[0m     )\n",
      "\u001b[0;31mGMTCLibError\u001b[0m: Module 'basemap' failed with status code 72:\nbasemap [ERROR]: Must specify at least one of -A, -B, -D, -L, -T"
     ]
    }
   ],
   "source": [
    "import pygmt\n",
    "fig = pygmt.Figure()\n",
    "fig.basemap(region=filter_region, projection='M3')\n",
    "fig.coast(shorelines=True)\n",
    "fig.plot(x=lon, y=south, style='c0.05c', color='red')\n",
    "fig.plot(x=gauge_locs['lon'].iloc[-1], y=gauge_locs['lat'].iloc[-1], style='c0.05c', color='blue')\n",
    "fig.show()"
   ]
  },
  {
   "cell_type": "code",
   "execution_count": 53,
   "id": "c12c6479-67ed-46ce-b105-7094080fbea1",
   "metadata": {},
   "outputs": [
    {
     "data": {
      "text/html": [
       "<div>\n",
       "<style scoped>\n",
       "    .dataframe tbody tr th:only-of-type {\n",
       "        vertical-align: middle;\n",
       "    }\n",
       "\n",
       "    .dataframe tbody tr th {\n",
       "        vertical-align: top;\n",
       "    }\n",
       "\n",
       "    .dataframe thead th {\n",
       "        text-align: right;\n",
       "    }\n",
       "</style>\n",
       "<table border=\"1\" class=\"dataframe\">\n",
       "  <thead>\n",
       "    <tr style=\"text-align: right;\">\n",
       "      <th></th>\n",
       "      <th>lon</th>\n",
       "      <th>lat</th>\n",
       "    </tr>\n",
       "  </thead>\n",
       "  <tbody>\n",
       "    <tr>\n",
       "      <th>0</th>\n",
       "      <td>-72.583333</td>\n",
       "      <td>40.806531</td>\n",
       "    </tr>\n",
       "    <tr>\n",
       "      <th>1</th>\n",
       "      <td>-72.587500</td>\n",
       "      <td>40.806177</td>\n",
       "    </tr>\n",
       "    <tr>\n",
       "      <th>2</th>\n",
       "      <td>-72.591667</td>\n",
       "      <td>40.806547</td>\n",
       "    </tr>\n",
       "    <tr>\n",
       "      <th>3</th>\n",
       "      <td>-72.595000</td>\n",
       "      <td>40.805151</td>\n",
       "    </tr>\n",
       "    <tr>\n",
       "      <th>4</th>\n",
       "      <td>-72.597500</td>\n",
       "      <td>40.803837</td>\n",
       "    </tr>\n",
       "    <tr>\n",
       "      <th>...</th>\n",
       "      <td>...</td>\n",
       "      <td>...</td>\n",
       "    </tr>\n",
       "    <tr>\n",
       "      <th>87</th>\n",
       "      <td>-72.865833</td>\n",
       "      <td>40.728706</td>\n",
       "    </tr>\n",
       "    <tr>\n",
       "      <th>88</th>\n",
       "      <td>-72.869167</td>\n",
       "      <td>40.727642</td>\n",
       "    </tr>\n",
       "    <tr>\n",
       "      <th>89</th>\n",
       "      <td>-72.872500</td>\n",
       "      <td>40.727093</td>\n",
       "    </tr>\n",
       "    <tr>\n",
       "      <th>90</th>\n",
       "      <td>-72.876667</td>\n",
       "      <td>40.726799</td>\n",
       "    </tr>\n",
       "    <tr>\n",
       "      <th>91</th>\n",
       "      <td>-72.878333</td>\n",
       "      <td>40.724660</td>\n",
       "    </tr>\n",
       "  </tbody>\n",
       "</table>\n",
       "<p>92 rows × 2 columns</p>\n",
       "</div>"
      ],
      "text/plain": [
       "          lon        lat\n",
       "0  -72.583333  40.806531\n",
       "1  -72.587500  40.806177\n",
       "2  -72.591667  40.806547\n",
       "3  -72.595000  40.805151\n",
       "4  -72.597500  40.803837\n",
       "..        ...        ...\n",
       "87 -72.865833  40.728706\n",
       "88 -72.869167  40.727642\n",
       "89 -72.872500  40.727093\n",
       "90 -72.876667  40.726799\n",
       "91 -72.878333  40.724660\n",
       "\n",
       "[92 rows x 2 columns]"
      ]
     },
     "execution_count": 53,
     "metadata": {},
     "output_type": "execute_result"
    }
   ],
   "source": [
    "gauge_locs"
   ]
  },
  {
   "cell_type": "code",
   "execution_count": 54,
   "id": "527da23e-496f-4733-b23b-59e24fb9faf4",
   "metadata": {},
   "outputs": [
    {
     "name": "stdout",
     "output_type": "stream",
     "text": [
      "40.728829613302 -72.62319697520226\n"
     ]
    },
    {
     "data": {
      "text/html": [
       "<div>\n",
       "<style scoped>\n",
       "    .dataframe tbody tr th:only-of-type {\n",
       "        vertical-align: middle;\n",
       "    }\n",
       "\n",
       "    .dataframe tbody tr th {\n",
       "        vertical-align: top;\n",
       "    }\n",
       "\n",
       "    .dataframe thead th {\n",
       "        text-align: right;\n",
       "    }\n",
       "</style>\n",
       "<table border=\"1\" class=\"dataframe\">\n",
       "  <thead>\n",
       "    <tr style=\"text-align: right;\">\n",
       "      <th></th>\n",
       "      <th>lon</th>\n",
       "      <th>lat</th>\n",
       "      <th>dist</th>\n",
       "    </tr>\n",
       "  </thead>\n",
       "  <tbody>\n",
       "  </tbody>\n",
       "</table>\n",
       "</div>"
      ],
      "text/plain": [
       "Empty DataFrame\n",
       "Columns: [lon, lat, dist]\n",
       "Index: []"
      ]
     },
     "execution_count": 54,
     "metadata": {},
     "output_type": "execute_result"
    }
   ],
   "source": [
    "bearing = get_bearing()\n",
    "lat2, lon2 = get_vector_points(south, lon, bearing, 1000)\n",
    "print(lat2, lon2)\n",
    "gauge_locs['dist'] = [gauges_locs_semicircle(x, y, lon, (south+north)/2, 1000,\n",
    "                                    lon2, lat2) for x, y in zip(gauge_locs['lon'],\n",
    "                                                                gauge_locs['lat'])]\n",
    "df = gauge_locs[~gauge_locs['dist'].isnull()]\n",
    "df"
   ]
  },
  {
   "cell_type": "code",
   "execution_count": null,
   "id": "f51283b3-d495-4dbb-ab54-82bed8f37f70",
   "metadata": {},
   "outputs": [],
   "source": [
    "def find_nearest_gauges(df, breach_lon, breach_lat, distance):\n",
    "    # df = pd.read_csv('/home/catherinej/BarrierBreach/src/visualization/ocean_gauges.csv')\n",
    "    # df = df.drop(['Unnamed: 0', 'dist'], axis=1)\n",
    "    bearing = get_bearing()\n",
    "    lat2, lon2 = get_vector_points(breach_lat, breach_lon, bearing, distance)\n",
    "    df['dist'] = [gauges_locs_semicircle(x, y, breach_lon, breach_lat, distance,\n",
    "                                        lon2, lat2) for x, y in zip(df['lon'],\n",
    "                                                                    df['lat'])]\n",
    "    df = df[~df['dist'].isnull()]\n",
    "    return df\n"
   ]
  },
  {
   "cell_type": "code",
   "execution_count": null,
   "id": "c5500add-9d0f-489a-a87e-499d1c9788d0",
   "metadata": {},
   "outputs": [],
   "source": []
  }
 ],
 "metadata": {
  "kernelspec": {
   "display_name": "Python 3 (ipykernel)",
   "language": "python",
   "name": "python3"
  },
  "language_info": {
   "codemirror_mode": {
    "name": "ipython",
    "version": 3
   },
   "file_extension": ".py",
   "mimetype": "text/x-python",
   "name": "python",
   "nbconvert_exporter": "python",
   "pygments_lexer": "ipython3",
   "version": "3.10.4"
  }
 },
 "nbformat": 4,
 "nbformat_minor": 5
}
