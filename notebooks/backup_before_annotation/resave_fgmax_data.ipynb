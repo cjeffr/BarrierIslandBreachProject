{
 "cells": [
  {
   "cell_type": "code",
   "execution_count": 31,
   "metadata": {},
   "outputs": [],
   "source": [
    "### import numpy as np\n",
    "import os\n",
    "import xarray as xr\n",
    "from clawpack.geoclaw import fgmax_tools\n",
    "import numpy as np"
   ]
  },
  {
   "cell_type": "code",
   "execution_count": 32,
   "metadata": {},
   "outputs": [],
   "source": [
    "def load_fgmax_save_netcdf(path, fgno, savename):\n",
    "    os.chdir(path)\n",
    "    fg = fgmax_tools.FGmaxGrid()\n",
    "    fg.read_fgmax_grids_data(fgno=fgno)\n",
    "    fg.read_output(fgno=fgno, outdir=os.path.join(path, '_output'),\n",
    "                   verbose=False)\n",
    "    fg.eta = np.where(fg.B > 0, fg.h, fg.h + fg.B)\n",
    "    # print(fg.X[0,:])\n",
    "    ds = xr.Dataset(data_vars={\n",
    "        \"B\": ([\"lat\", \"lon\"], fg.B),\n",
    "        'h' :([\"lat\", \"lon\"], fg.h),\n",
    "        'eta': (['lat', 'lon'], fg.eta)\n",
    "        },\n",
    "        coords={'lat': fg.Y[:,0],\n",
    "                'lon': fg.X[0,:]})\n",
    "    ds.to_netcdf(savename)\n",
    "#     fg.eta = np.ma.masked_where(fg.h <= 0.001,\n",
    "#                                 np.where(fg.B<0, fg.B+fg.h,fg.h))\n",
    "#     da = xr.DataArray(data=fg.eta,\n",
    "#                       coords={'lat': fg.y,\n",
    "#                               'lon': fg.x})\n",
    "#     ds = da.to_dataset(name=f'{savename.split(\"/\")[-1]}')\n",
    "#                              # 'name': savename.split('/')[-1]})\n",
    "#     ds.to_netcdf(savename)\n",
    "    "
   ]
  },
  {
   "cell_type": "code",
   "execution_count": 34,
   "metadata": {},
   "outputs": [
    {
     "name": "stdout",
     "output_type": "stream",
     "text": [
      "Reading input for fgno=1, point_style = 4 \n",
      "Reading /home/catherinej/KEEP_SAFE/PA4CJ/tsu_sim/sim_PA_MHW/_output/fgmax0001.txt ...\n",
      "point_style == 4, found 4623805 points \n"
     ]
    }
   ],
   "source": [
    "path = '/home/catherinej/KEEP_SAFE/PA4CJ/tsu_sim/sim_PA_MHW'\n",
    "os.chdir('/home/catherinej/KEEP_SAFE/PA4CJ/tsu_sim/sim_PA_MHW')\n",
    "fg = fgmax_tools.FGmaxGrid()\n",
    "fg.read_fgmax_grids_data(fgno=1)\n",
    "fg.read_output(fgno=1, outdir=os.path.join(path, '_output'),\n",
    "               verbose=False)\n",
    "fg.eta = np.where(fg.B > 0, fg.h, fg.h + fg.B)\n",
    "# print(fg.X[0,:])\n",
    "# ds = xr.Dataset(data_vars={\n",
    "#     \"B\": ([\"lon\", \"lat\"], fg.B),\n",
    "#     'h' :([\"lon\", \"lat\"], fg.h),\n",
    "#     'eta': (['lon', 'lat'], fg.eta)\n",
    "#     },\n",
    "#     coords={'lon': fg.X[0,:],\n",
    "#             'lat': fg.Y[:,0]})\n",
    "# ds.to_netcdf(savename)"
   ]
  },
  {
   "cell_type": "code",
   "execution_count": 28,
   "metadata": {},
   "outputs": [
    {
     "data": {
      "text/plain": [
       "(3565, 1297)"
      ]
     },
     "execution_count": 28,
     "metadata": {},
     "output_type": "execute_result"
    }
   ],
   "source": [
    "\n",
    "fg.B.shape"
   ]
  },
  {
   "cell_type": "code",
   "execution_count": 4,
   "metadata": {},
   "outputs": [
    {
     "data": {
      "text/plain": [
       "'/projects/weiszr_lab/breach_sims/fg_nc/notebooks_fgmax.nc'"
      ]
     },
     "execution_count": 4,
     "metadata": {},
     "output_type": "execute_result"
    }
   ],
   "source": [
    "savepath = os.path.join('/projects/weiszr_lab/breach_sims/fg_nc', os.getcwd().split('/')[-1] + '_fgmax.nc')\n",
    "savepath"
   ]
  },
  {
   "cell_type": "code",
   "execution_count": 36,
   "metadata": {},
   "outputs": [
    {
     "name": "stdout",
     "output_type": "stream",
     "text": [
      "Reading input for fgno=1, point_style = 4 \n",
      "Reading /home/catherinej/KEEP_SAFE/PA4CJ/tsu_sim/sim_PA_MHW/_output/fgmax0001.txt ...\n",
      "point_style == 4, found 4623805 points \n",
      "Reading input for fgno=2, point_style = 4 \n",
      "Reading /home/catherinej/KEEP_SAFE/PA4CJ/tsu_sim/sim_PA_MHW/_output/fgmax0002.txt ...\n",
      "point_style == 4, found 4623805 points \n",
      "Reading input for fgno=3, point_style = 4 \n",
      "Reading /home/catherinej/KEEP_SAFE/PA4CJ/tsu_sim/sim_PA_MHW/_output/fgmax0003.txt ...\n",
      "point_style == 4, found 4623805 points \n",
      "Reading input for fgno=4, point_style = 4 \n",
      "Reading /home/catherinej/KEEP_SAFE/PA4CJ/tsu_sim/sim_PA_MHW/_output/fgmax0004.txt ...\n",
      "point_style == 4, found 4623805 points \n",
      "took 549.5087342262268 seconds\n"
     ]
    }
   ],
   "source": [
    "import time\n",
    "start = time.time()\n",
    "fgno = {'entire_simulation': 1,\n",
    "        'first_wave': 2,\n",
    "        'second_wave': 3,\n",
    "        'third_wave':4}\n",
    "# for fldr in sim_folders:\n",
    "fldr = '/home/catherinej/KEEP_SAFE/PA4CJ/tsu_sim/sim_PA_MHW'\n",
    "for name, idx in fgno.items():\n",
    "    if os.path.exists(os.path.join(fldr, '_output', f'fgmax{idx:04d}.txt')):\n",
    "        if fldr.split('/')[-1] != 'sims': \n",
    "            savename = f'{name}_fgmax.nc'\n",
    "    #         if not os.path.exists(savename):\n",
    "    #             print(f'Working on folder: {fldr.split(\"/\")[-1]}')\n",
    "            load_fgmax_save_netcdf(fldr, idx, savename)\n",
    "print(f'took {time.time() - start} seconds')"
   ]
  },
  {
   "cell_type": "code",
   "execution_count": 6,
   "metadata": {},
   "outputs": [
    {
     "data": {
      "text/html": [
       "<div><svg style=\"position: absolute; width: 0; height: 0; overflow: hidden\">\n",
       "<defs>\n",
       "<symbol id=\"icon-database\" viewBox=\"0 0 32 32\">\n",
       "<path d=\"M16 0c-8.837 0-16 2.239-16 5v4c0 2.761 7.163 5 16 5s16-2.239 16-5v-4c0-2.761-7.163-5-16-5z\"></path>\n",
       "<path d=\"M16 17c-8.837 0-16-2.239-16-5v6c0 2.761 7.163 5 16 5s16-2.239 16-5v-6c0 2.761-7.163 5-16 5z\"></path>\n",
       "<path d=\"M16 26c-8.837 0-16-2.239-16-5v6c0 2.761 7.163 5 16 5s16-2.239 16-5v-6c0 2.761-7.163 5-16 5z\"></path>\n",
       "</symbol>\n",
       "<symbol id=\"icon-file-text2\" viewBox=\"0 0 32 32\">\n",
       "<path d=\"M28.681 7.159c-0.694-0.947-1.662-2.053-2.724-3.116s-2.169-2.030-3.116-2.724c-1.612-1.182-2.393-1.319-2.841-1.319h-15.5c-1.378 0-2.5 1.121-2.5 2.5v27c0 1.378 1.122 2.5 2.5 2.5h23c1.378 0 2.5-1.122 2.5-2.5v-19.5c0-0.448-0.137-1.23-1.319-2.841zM24.543 5.457c0.959 0.959 1.712 1.825 2.268 2.543h-4.811v-4.811c0.718 0.556 1.584 1.309 2.543 2.268zM28 29.5c0 0.271-0.229 0.5-0.5 0.5h-23c-0.271 0-0.5-0.229-0.5-0.5v-27c0-0.271 0.229-0.5 0.5-0.5 0 0 15.499-0 15.5 0v7c0 0.552 0.448 1 1 1h7v19.5z\"></path>\n",
       "<path d=\"M23 26h-14c-0.552 0-1-0.448-1-1s0.448-1 1-1h14c0.552 0 1 0.448 1 1s-0.448 1-1 1z\"></path>\n",
       "<path d=\"M23 22h-14c-0.552 0-1-0.448-1-1s0.448-1 1-1h14c0.552 0 1 0.448 1 1s-0.448 1-1 1z\"></path>\n",
       "<path d=\"M23 18h-14c-0.552 0-1-0.448-1-1s0.448-1 1-1h14c0.552 0 1 0.448 1 1s-0.448 1-1 1z\"></path>\n",
       "</symbol>\n",
       "</defs>\n",
       "</svg>\n",
       "<style>/* CSS stylesheet for displaying xarray objects in jupyterlab.\n",
       " *\n",
       " */\n",
       "\n",
       ":root {\n",
       "  --xr-font-color0: var(--jp-content-font-color0, rgba(0, 0, 0, 1));\n",
       "  --xr-font-color2: var(--jp-content-font-color2, rgba(0, 0, 0, 0.54));\n",
       "  --xr-font-color3: var(--jp-content-font-color3, rgba(0, 0, 0, 0.38));\n",
       "  --xr-border-color: var(--jp-border-color2, #e0e0e0);\n",
       "  --xr-disabled-color: var(--jp-layout-color3, #bdbdbd);\n",
       "  --xr-background-color: var(--jp-layout-color0, white);\n",
       "  --xr-background-color-row-even: var(--jp-layout-color1, white);\n",
       "  --xr-background-color-row-odd: var(--jp-layout-color2, #eeeeee);\n",
       "}\n",
       "\n",
       "html[theme=dark],\n",
       "body.vscode-dark {\n",
       "  --xr-font-color0: rgba(255, 255, 255, 1);\n",
       "  --xr-font-color2: rgba(255, 255, 255, 0.54);\n",
       "  --xr-font-color3: rgba(255, 255, 255, 0.38);\n",
       "  --xr-border-color: #1F1F1F;\n",
       "  --xr-disabled-color: #515151;\n",
       "  --xr-background-color: #111111;\n",
       "  --xr-background-color-row-even: #111111;\n",
       "  --xr-background-color-row-odd: #313131;\n",
       "}\n",
       "\n",
       ".xr-wrap {\n",
       "  display: block !important;\n",
       "  min-width: 300px;\n",
       "  max-width: 700px;\n",
       "}\n",
       "\n",
       ".xr-text-repr-fallback {\n",
       "  /* fallback to plain text repr when CSS is not injected (untrusted notebook) */\n",
       "  display: none;\n",
       "}\n",
       "\n",
       ".xr-header {\n",
       "  padding-top: 6px;\n",
       "  padding-bottom: 6px;\n",
       "  margin-bottom: 4px;\n",
       "  border-bottom: solid 1px var(--xr-border-color);\n",
       "}\n",
       "\n",
       ".xr-header > div,\n",
       ".xr-header > ul {\n",
       "  display: inline;\n",
       "  margin-top: 0;\n",
       "  margin-bottom: 0;\n",
       "}\n",
       "\n",
       ".xr-obj-type,\n",
       ".xr-array-name {\n",
       "  margin-left: 2px;\n",
       "  margin-right: 10px;\n",
       "}\n",
       "\n",
       ".xr-obj-type {\n",
       "  color: var(--xr-font-color2);\n",
       "}\n",
       "\n",
       ".xr-sections {\n",
       "  padding-left: 0 !important;\n",
       "  display: grid;\n",
       "  grid-template-columns: 150px auto auto 1fr 20px 20px;\n",
       "}\n",
       "\n",
       ".xr-section-item {\n",
       "  display: contents;\n",
       "}\n",
       "\n",
       ".xr-section-item input {\n",
       "  display: none;\n",
       "}\n",
       "\n",
       ".xr-section-item input + label {\n",
       "  color: var(--xr-disabled-color);\n",
       "}\n",
       "\n",
       ".xr-section-item input:enabled + label {\n",
       "  cursor: pointer;\n",
       "  color: var(--xr-font-color2);\n",
       "}\n",
       "\n",
       ".xr-section-item input:enabled + label:hover {\n",
       "  color: var(--xr-font-color0);\n",
       "}\n",
       "\n",
       ".xr-section-summary {\n",
       "  grid-column: 1;\n",
       "  color: var(--xr-font-color2);\n",
       "  font-weight: 500;\n",
       "}\n",
       "\n",
       ".xr-section-summary > span {\n",
       "  display: inline-block;\n",
       "  padding-left: 0.5em;\n",
       "}\n",
       "\n",
       ".xr-section-summary-in:disabled + label {\n",
       "  color: var(--xr-font-color2);\n",
       "}\n",
       "\n",
       ".xr-section-summary-in + label:before {\n",
       "  display: inline-block;\n",
       "  content: '►';\n",
       "  font-size: 11px;\n",
       "  width: 15px;\n",
       "  text-align: center;\n",
       "}\n",
       "\n",
       ".xr-section-summary-in:disabled + label:before {\n",
       "  color: var(--xr-disabled-color);\n",
       "}\n",
       "\n",
       ".xr-section-summary-in:checked + label:before {\n",
       "  content: '▼';\n",
       "}\n",
       "\n",
       ".xr-section-summary-in:checked + label > span {\n",
       "  display: none;\n",
       "}\n",
       "\n",
       ".xr-section-summary,\n",
       ".xr-section-inline-details {\n",
       "  padding-top: 4px;\n",
       "  padding-bottom: 4px;\n",
       "}\n",
       "\n",
       ".xr-section-inline-details {\n",
       "  grid-column: 2 / -1;\n",
       "}\n",
       "\n",
       ".xr-section-details {\n",
       "  display: none;\n",
       "  grid-column: 1 / -1;\n",
       "  margin-bottom: 5px;\n",
       "}\n",
       "\n",
       ".xr-section-summary-in:checked ~ .xr-section-details {\n",
       "  display: contents;\n",
       "}\n",
       "\n",
       ".xr-array-wrap {\n",
       "  grid-column: 1 / -1;\n",
       "  display: grid;\n",
       "  grid-template-columns: 20px auto;\n",
       "}\n",
       "\n",
       ".xr-array-wrap > label {\n",
       "  grid-column: 1;\n",
       "  vertical-align: top;\n",
       "}\n",
       "\n",
       ".xr-preview {\n",
       "  color: var(--xr-font-color3);\n",
       "}\n",
       "\n",
       ".xr-array-preview,\n",
       ".xr-array-data {\n",
       "  padding: 0 5px !important;\n",
       "  grid-column: 2;\n",
       "}\n",
       "\n",
       ".xr-array-data,\n",
       ".xr-array-in:checked ~ .xr-array-preview {\n",
       "  display: none;\n",
       "}\n",
       "\n",
       ".xr-array-in:checked ~ .xr-array-data,\n",
       ".xr-array-preview {\n",
       "  display: inline-block;\n",
       "}\n",
       "\n",
       ".xr-dim-list {\n",
       "  display: inline-block !important;\n",
       "  list-style: none;\n",
       "  padding: 0 !important;\n",
       "  margin: 0;\n",
       "}\n",
       "\n",
       ".xr-dim-list li {\n",
       "  display: inline-block;\n",
       "  padding: 0;\n",
       "  margin: 0;\n",
       "}\n",
       "\n",
       ".xr-dim-list:before {\n",
       "  content: '(';\n",
       "}\n",
       "\n",
       ".xr-dim-list:after {\n",
       "  content: ')';\n",
       "}\n",
       "\n",
       ".xr-dim-list li:not(:last-child):after {\n",
       "  content: ',';\n",
       "  padding-right: 5px;\n",
       "}\n",
       "\n",
       ".xr-has-index {\n",
       "  font-weight: bold;\n",
       "}\n",
       "\n",
       ".xr-var-list,\n",
       ".xr-var-item {\n",
       "  display: contents;\n",
       "}\n",
       "\n",
       ".xr-var-item > div,\n",
       ".xr-var-item label,\n",
       ".xr-var-item > .xr-var-name span {\n",
       "  background-color: var(--xr-background-color-row-even);\n",
       "  margin-bottom: 0;\n",
       "}\n",
       "\n",
       ".xr-var-item > .xr-var-name:hover span {\n",
       "  padding-right: 5px;\n",
       "}\n",
       "\n",
       ".xr-var-list > li:nth-child(odd) > div,\n",
       ".xr-var-list > li:nth-child(odd) > label,\n",
       ".xr-var-list > li:nth-child(odd) > .xr-var-name span {\n",
       "  background-color: var(--xr-background-color-row-odd);\n",
       "}\n",
       "\n",
       ".xr-var-name {\n",
       "  grid-column: 1;\n",
       "}\n",
       "\n",
       ".xr-var-dims {\n",
       "  grid-column: 2;\n",
       "}\n",
       "\n",
       ".xr-var-dtype {\n",
       "  grid-column: 3;\n",
       "  text-align: right;\n",
       "  color: var(--xr-font-color2);\n",
       "}\n",
       "\n",
       ".xr-var-preview {\n",
       "  grid-column: 4;\n",
       "}\n",
       "\n",
       ".xr-var-name,\n",
       ".xr-var-dims,\n",
       ".xr-var-dtype,\n",
       ".xr-preview,\n",
       ".xr-attrs dt {\n",
       "  white-space: nowrap;\n",
       "  overflow: hidden;\n",
       "  text-overflow: ellipsis;\n",
       "  padding-right: 10px;\n",
       "}\n",
       "\n",
       ".xr-var-name:hover,\n",
       ".xr-var-dims:hover,\n",
       ".xr-var-dtype:hover,\n",
       ".xr-attrs dt:hover {\n",
       "  overflow: visible;\n",
       "  width: auto;\n",
       "  z-index: 1;\n",
       "}\n",
       "\n",
       ".xr-var-attrs,\n",
       ".xr-var-data {\n",
       "  display: none;\n",
       "  background-color: var(--xr-background-color) !important;\n",
       "  padding-bottom: 5px !important;\n",
       "}\n",
       "\n",
       ".xr-var-attrs-in:checked ~ .xr-var-attrs,\n",
       ".xr-var-data-in:checked ~ .xr-var-data {\n",
       "  display: block;\n",
       "}\n",
       "\n",
       ".xr-var-data > table {\n",
       "  float: right;\n",
       "}\n",
       "\n",
       ".xr-var-name span,\n",
       ".xr-var-data,\n",
       ".xr-attrs {\n",
       "  padding-left: 25px !important;\n",
       "}\n",
       "\n",
       ".xr-attrs,\n",
       ".xr-var-attrs,\n",
       ".xr-var-data {\n",
       "  grid-column: 1 / -1;\n",
       "}\n",
       "\n",
       "dl.xr-attrs {\n",
       "  padding: 0;\n",
       "  margin: 0;\n",
       "  display: grid;\n",
       "  grid-template-columns: 125px auto;\n",
       "}\n",
       "\n",
       ".xr-attrs dt,\n",
       ".xr-attrs dd {\n",
       "  padding: 0;\n",
       "  margin: 0;\n",
       "  float: left;\n",
       "  padding-right: 10px;\n",
       "  width: auto;\n",
       "}\n",
       "\n",
       ".xr-attrs dt {\n",
       "  font-weight: normal;\n",
       "  grid-column: 1;\n",
       "}\n",
       "\n",
       ".xr-attrs dt:hover span {\n",
       "  display: inline-block;\n",
       "  background: var(--xr-background-color);\n",
       "  padding-right: 10px;\n",
       "}\n",
       "\n",
       ".xr-attrs dd {\n",
       "  grid-column: 2;\n",
       "  white-space: pre-wrap;\n",
       "  word-break: break-all;\n",
       "}\n",
       "\n",
       ".xr-icon-database,\n",
       ".xr-icon-file-text2 {\n",
       "  display: inline-block;\n",
       "  vertical-align: middle;\n",
       "  width: 1em;\n",
       "  height: 1.5em !important;\n",
       "  stroke-width: 0;\n",
       "  stroke: currentColor;\n",
       "  fill: currentColor;\n",
       "}\n",
       "</style><pre class='xr-text-repr-fallback'>&lt;xarray.Dataset&gt;\n",
       "Dimensions:  (lat: 1188, lon: 2484)\n",
       "Coordinates:\n",
       "  * lat      (lat) float64 40.72 40.72 40.72 40.72 ... 40.83 40.83 40.83 40.83\n",
       "  * lon      (lon) float64 -72.88 -72.88 -72.88 -72.88 ... -72.65 -72.65 -72.65\n",
       "Data variables:\n",
       "    B        (lat, lon) float64 ...\n",
       "    h        (lat, lon) float64 ...\n",
       "    eta      (lat, lon) float64 ...</pre><div class='xr-wrap' style='display:none'><div class='xr-header'><div class='xr-obj-type'>xarray.Dataset</div></div><ul class='xr-sections'><li class='xr-section-item'><input id='section-8bf4ba44-b5df-4d57-9d65-62c1a9ac2791' class='xr-section-summary-in' type='checkbox' disabled ><label for='section-8bf4ba44-b5df-4d57-9d65-62c1a9ac2791' class='xr-section-summary'  title='Expand/collapse section'>Dimensions:</label><div class='xr-section-inline-details'><ul class='xr-dim-list'><li><span class='xr-has-index'>lat</span>: 1188</li><li><span class='xr-has-index'>lon</span>: 2484</li></ul></div><div class='xr-section-details'></div></li><li class='xr-section-item'><input id='section-b7c68c3f-d630-4abe-9d89-33141a2687cf' class='xr-section-summary-in' type='checkbox'  checked><label for='section-b7c68c3f-d630-4abe-9d89-33141a2687cf' class='xr-section-summary' >Coordinates: <span>(2)</span></label><div class='xr-section-inline-details'></div><div class='xr-section-details'><ul class='xr-var-list'><li class='xr-var-item'><div class='xr-var-name'><span class='xr-has-index'>lat</span></div><div class='xr-var-dims'>(lat)</div><div class='xr-var-dtype'>float64</div><div class='xr-var-preview xr-preview'>40.72 40.72 40.72 ... 40.83 40.83</div><input id='attrs-6825c033-9242-4a29-994a-fae23c0901fe' class='xr-var-attrs-in' type='checkbox' disabled><label for='attrs-6825c033-9242-4a29-994a-fae23c0901fe' title='Show/Hide attributes'><svg class='icon xr-icon-file-text2'><use xlink:href='#icon-file-text2'></use></svg></label><input id='data-7536c53c-f8f4-4494-8766-5f588ec00920' class='xr-var-data-in' type='checkbox'><label for='data-7536c53c-f8f4-4494-8766-5f588ec00920' title='Show/Hide data repr'><svg class='icon xr-icon-database'><use xlink:href='#icon-database'></use></svg></label><div class='xr-var-attrs'><dl class='xr-attrs'></dl></div><div class='xr-var-data'><pre>array([40.720046, 40.720139, 40.720231, ..., 40.829769, 40.829861, 40.829954])</pre></div></li><li class='xr-var-item'><div class='xr-var-name'><span class='xr-has-index'>lon</span></div><div class='xr-var-dims'>(lon)</div><div class='xr-var-dtype'>float64</div><div class='xr-var-preview xr-preview'>-72.88 -72.88 ... -72.65 -72.65</div><input id='attrs-8a3709cd-b73f-4855-b5dc-41f1b05a0556' class='xr-var-attrs-in' type='checkbox' disabled><label for='attrs-8a3709cd-b73f-4855-b5dc-41f1b05a0556' title='Show/Hide attributes'><svg class='icon xr-icon-file-text2'><use xlink:href='#icon-file-text2'></use></svg></label><input id='data-9e05a824-23ac-40e4-985b-aeb4f6d6c10f' class='xr-var-data-in' type='checkbox'><label for='data-9e05a824-23ac-40e4-985b-aeb4f6d6c10f' title='Show/Hide data repr'><svg class='icon xr-icon-database'><use xlink:href='#icon-database'></use></svg></label><div class='xr-var-attrs'><dl class='xr-attrs'></dl></div><div class='xr-var-data'><pre>array([-72.879954, -72.879861, -72.879769, ..., -72.650231, -72.650139,\n",
       "       -72.650046])</pre></div></li></ul></div></li><li class='xr-section-item'><input id='section-cdf7d7b7-d34e-44f8-b904-03434fb7b3db' class='xr-section-summary-in' type='checkbox'  checked><label for='section-cdf7d7b7-d34e-44f8-b904-03434fb7b3db' class='xr-section-summary' >Data variables: <span>(3)</span></label><div class='xr-section-inline-details'></div><div class='xr-section-details'><ul class='xr-var-list'><li class='xr-var-item'><div class='xr-var-name'><span>B</span></div><div class='xr-var-dims'>(lat, lon)</div><div class='xr-var-dtype'>float64</div><div class='xr-var-preview xr-preview'>...</div><input id='attrs-072402cd-c865-450e-950f-358c66c99257' class='xr-var-attrs-in' type='checkbox' disabled><label for='attrs-072402cd-c865-450e-950f-358c66c99257' title='Show/Hide attributes'><svg class='icon xr-icon-file-text2'><use xlink:href='#icon-file-text2'></use></svg></label><input id='data-21d4ce6b-9fb1-406d-a194-ca8d1bc51e2a' class='xr-var-data-in' type='checkbox'><label for='data-21d4ce6b-9fb1-406d-a194-ca8d1bc51e2a' title='Show/Hide data repr'><svg class='icon xr-icon-database'><use xlink:href='#icon-database'></use></svg></label><div class='xr-var-attrs'><dl class='xr-attrs'></dl></div><div class='xr-var-data'><pre>[2950992 values with dtype=float64]</pre></div></li><li class='xr-var-item'><div class='xr-var-name'><span>h</span></div><div class='xr-var-dims'>(lat, lon)</div><div class='xr-var-dtype'>float64</div><div class='xr-var-preview xr-preview'>...</div><input id='attrs-b039b9b2-5f15-4c23-bb76-323df11c3101' class='xr-var-attrs-in' type='checkbox' disabled><label for='attrs-b039b9b2-5f15-4c23-bb76-323df11c3101' title='Show/Hide attributes'><svg class='icon xr-icon-file-text2'><use xlink:href='#icon-file-text2'></use></svg></label><input id='data-6434af33-d416-4bca-83e6-048e6da1fcde' class='xr-var-data-in' type='checkbox'><label for='data-6434af33-d416-4bca-83e6-048e6da1fcde' title='Show/Hide data repr'><svg class='icon xr-icon-database'><use xlink:href='#icon-database'></use></svg></label><div class='xr-var-attrs'><dl class='xr-attrs'></dl></div><div class='xr-var-data'><pre>[2950992 values with dtype=float64]</pre></div></li><li class='xr-var-item'><div class='xr-var-name'><span>eta</span></div><div class='xr-var-dims'>(lat, lon)</div><div class='xr-var-dtype'>float64</div><div class='xr-var-preview xr-preview'>...</div><input id='attrs-4fa133f4-4cdf-4b25-a0e2-e251d9eb49da' class='xr-var-attrs-in' type='checkbox' disabled><label for='attrs-4fa133f4-4cdf-4b25-a0e2-e251d9eb49da' title='Show/Hide attributes'><svg class='icon xr-icon-file-text2'><use xlink:href='#icon-file-text2'></use></svg></label><input id='data-46f4c339-f9db-4f9c-afb6-a157a72bfdcc' class='xr-var-data-in' type='checkbox'><label for='data-46f4c339-f9db-4f9c-afb6-a157a72bfdcc' title='Show/Hide data repr'><svg class='icon xr-icon-database'><use xlink:href='#icon-database'></use></svg></label><div class='xr-var-attrs'><dl class='xr-attrs'></dl></div><div class='xr-var-data'><pre>[2950992 values with dtype=float64]</pre></div></li></ul></div></li><li class='xr-section-item'><input id='section-1eb5891c-8e40-47d8-b0f8-4f1cc12ac22b' class='xr-section-summary-in' type='checkbox' disabled ><label for='section-1eb5891c-8e40-47d8-b0f8-4f1cc12ac22b' class='xr-section-summary'  title='Expand/collapse section'>Attributes: <span>(0)</span></label><div class='xr-section-inline-details'></div><div class='xr-section-details'><dl class='xr-attrs'></dl></div></li></ul></div></div>"
      ],
      "text/plain": [
       "<xarray.Dataset>\n",
       "Dimensions:  (lat: 1188, lon: 2484)\n",
       "Coordinates:\n",
       "  * lat      (lat) float64 40.72 40.72 40.72 40.72 ... 40.83 40.83 40.83 40.83\n",
       "  * lon      (lon) float64 -72.88 -72.88 -72.88 -72.88 ... -72.65 -72.65 -72.65\n",
       "Data variables:\n",
       "    B        (lat, lon) float64 ...\n",
       "    h        (lat, lon) float64 ...\n",
       "    eta      (lat, lon) float64 ..."
      ]
     },
     "execution_count": 6,
     "metadata": {},
     "output_type": "execute_result"
    }
   ],
   "source": [
    "ds = xr.open_dataset('/projects/weiszr_lab/catherine/breach_sims/fg_nc/r200_fgmax.nc')\n",
    "ds"
   ]
  },
  {
   "cell_type": "code",
   "execution_count": 4,
   "metadata": {},
   "outputs": [
    {
     "data": {
      "text/plain": [
       "'/projects/weiszr_lab/catherine/breach_sims/fg_nc/_fgmax.nc'"
      ]
     },
     "execution_count": 4,
     "metadata": {},
     "output_type": "execute_result"
    }
   ],
   "source": [
    "savename"
   ]
  },
  {
   "cell_type": "code",
   "execution_count": 27,
   "metadata": {},
   "outputs": [
    {
     "data": {
      "text/plain": [
       "(array([  80,   80,   80, ..., 1187, 1187, 1187]),\n",
       " array([   0,    1,    2, ..., 2070, 2071, 2072]))"
      ]
     },
     "execution_count": 27,
     "metadata": {},
     "output_type": "execute_result"
    }
   ],
   "source": [
    "np.where(fg.B > 0)"
   ]
  },
  {
   "cell_type": "code",
   "execution_count": 28,
   "metadata": {},
   "outputs": [
    {
     "data": {
      "text/plain": [
       "1.0700991"
      ]
     },
     "execution_count": 28,
     "metadata": {},
     "output_type": "execute_result"
    }
   ],
   "source": [
    "fg.B[80,0]"
   ]
  },
  {
   "cell_type": "code",
   "execution_count": 29,
   "metadata": {},
   "outputs": [
    {
     "data": {
      "text/plain": [
       "-72.87995371851132"
      ]
     },
     "execution_count": 29,
     "metadata": {},
     "output_type": "execute_result"
    }
   ],
   "source": [
    "fg.X[80,0]"
   ]
  },
  {
   "cell_type": "code",
   "execution_count": 35,
   "metadata": {},
   "outputs": [],
   "source": [
    "fg.eta = np.where(fg.B > 0, fg.h, fg.h + fg.B)"
   ]
  },
  {
   "cell_type": "code",
   "execution_count": 44,
   "metadata": {},
   "outputs": [],
   "source": []
  },
  {
   "cell_type": "code",
   "execution_count": 47,
   "metadata": {},
   "outputs": [],
   "source": [
    "ds.to_netcdf('~/d1_fgmax.nc')"
   ]
  },
  {
   "cell_type": "code",
   "execution_count": null,
   "metadata": {},
   "outputs": [],
   "source": []
  }
 ],
 "metadata": {
  "kernelspec": {
   "display_name": "Python 3 (ipykernel)",
   "language": "python",
   "name": "python3"
  },
  "language_info": {
   "codemirror_mode": {
    "name": "ipython",
    "version": 3
   },
   "file_extension": ".py",
   "mimetype": "text/x-python",
   "name": "python",
   "nbconvert_exporter": "python",
   "pygments_lexer": "ipython3",
   "version": "3.10.14"
  }
 },
 "nbformat": 4,
 "nbformat_minor": 4
}
